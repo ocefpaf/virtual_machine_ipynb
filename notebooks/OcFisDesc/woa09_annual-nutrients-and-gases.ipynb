{
 "metadata": {
  "name": ""
 },
 "nbformat": 3,
 "nbformat_minor": 0,
 "worksheets": [
  {
   "cells": [
    {
     "cell_type": "markdown",
     "metadata": {},
     "source": [
      "### Download data"
     ]
    },
    {
     "cell_type": "code",
     "collapsed": false,
     "input": [
      "import os\n",
      "import iris\n",
      "import numpy as np\n",
      "\n",
      "\n",
      "def get_data(var='salinity', name='sea_water_salinity',\n",
      "             clim_type='annual', resolution='1deg',\n",
      "             longitude=lambda cell: 0 <= cell <=360,\n",
      "             latitude=lambda cell: -90 <= cell <= 90,\n",
      "             depth=lambda cell: 0<= cell <= 5500):\n",
      "    coord_values = dict(longitude=longitude, latitude=latitude)\n",
      "    constraint = iris.Constraint(coord_values=coord_values,\n",
      "                                 name=name)\n",
      "    uri = \"http://data.nodc.noaa.gov/thredds/dodsC/woa/WOA09/NetCDFdata\"\n",
      "    fname = \"%s_%s_%s.nc\" % (var, clim_type, resolution)\n",
      "    url = '%s/%s' % (uri, fname)\n",
      "    cube = iris.load_cube(url, constraint=constraint)\n",
      "    \n",
      "    if clim_type == 'annual':\n",
      "        cube = cube.collapsed('time', iris.analysis.MEAN)\n",
      "    return cube\n",
      "\n",
      "\n",
      "def load(name):\n",
      "    fname = '../../data/woa09_%s_annual.nc' % name\n",
      "    if not os.path.isfile(fname):\n",
      "        cube = get_data(var=name, name=variables[name],\n",
      "                        clim_type='annual', resolution='1deg')\n",
      "        iris.save(cube, fname)\n",
      "    else:\n",
      "        cube = iris.load_cube(fname)\n",
      "    return cube\n",
      "    \n",
      "\n",
      "variables = dict(salinity='sea_water_salinity',\n",
      "                 temperature='sea_water_temperature',\n",
      "                 silicate='mole_concentration_of_silicate_in_sea_water',\n",
      "                 phosphate='mole_concentration_of_phosphate_in_sea_water',\n",
      "                 nitrate='mole_concentration_of_nitrate_in_sea_water',\n",
      "                 oxygen_saturation='Objectively Analyzed Climatology',\n",
      "                 dissolved_oxygen='Objectively Analyzed Climatology',\n",
      "                 apparent_oxygen_utilization='Objectively Analyzed Climatology')\n",
      "\n",
      "\n",
      "data = dict()\n",
      "for name in variables.keys():\n",
      "    data.update({name: load(name)})"
     ],
     "language": "python",
     "metadata": {},
     "outputs": [],
     "prompt_number": null
    },
    {
     "cell_type": "markdown",
     "metadata": {},
     "source": [
      "### Figures"
     ]
    },
    {
     "cell_type": "code",
     "collapsed": false,
     "input": [
      "import iris.plot as iplt\n",
      "import cartopy.crs as ccrs\n",
      "import matplotlib.pyplot as plt\n",
      "import cartopy.feature as cfeature\n",
      "import matplotlib.ticker as mticker\n",
      "\n",
      "from oceans.colormaps import cm\n",
      "from cartopy.mpl.gridliner import LONGITUDE_FORMATTER, LATITUDE_FORMATTER\n",
      "\n",
      "\n",
      "def plot_horizontal_slice(cube, levels=None, depth=0, cmap=cm.odv):\n",
      "    fig, ax = plt.subplots(subplot_kw=dict(projection=ccrs.PlateCarree(central_longitude=-150)),\n",
      "                           figsize=(10, 5))    \n",
      "    idx = cube.coord('depth').nearest_neighbour_index(depth)\n",
      "    cs = iplt.contourf(cube[idx, ...], cmap=cmap, levels=levels, extend='both')\n",
      "    if not (levels is None):\n",
      "        cs.set_clim(levels[0], levels[-1])\n",
      "    cbar = fig.colorbar(cs, extend='both', shrink=0.75, pad=0.02, fraction=0.1,\n",
      "                        orientation='vertical')\n",
      "\n",
      "    ax.set_global()\n",
      "    ax.coastlines(resolution='110m', color='k')\n",
      "    ax.add_feature(cfeature.LAND, facecolor='0.75')\n",
      "    # Gridlines.\n",
      "    gl = ax.gridlines(draw_labels=True)\n",
      "    gl.xlabels_top = False\n",
      "    gl.ylabels_right = False\n",
      "    gl.xformatter = LONGITUDE_FORMATTER\n",
      "    gl.yformatter = LATITUDE_FORMATTER\n",
      "    # Work around writing longitude position twice (e.g.: 180W and 180E).\n",
      "    gl.xlocator = mticker.FixedLocator([-60, -120, -180, 120, 60, 0])\n",
      "    ax.set_title(\"%s\\nSlice at depth %s meters\" % (cube.attributes['title'], depth))\n",
      "    return fig, ax, cbar"
     ],
     "language": "python",
     "metadata": {},
     "outputs": [],
     "prompt_number": null
    },
    {
     "cell_type": "code",
     "collapsed": false,
     "input": [
      "fig, ax, cbar = plot_horizontal_slice(data['oxygen_saturation'], depth=0)\n",
      "fig, ax, cbar = plot_horizontal_slice(data['dissolved_oxygen'], depth=0)\n",
      "fig, ax, cbar = plot_horizontal_slice(data['apparent_oxygen_utilization'], depth=0)\n",
      "fig, ax, cbar = plot_horizontal_slice(data['phosphate'], depth=0)\n",
      "fig, ax, cbar = plot_horizontal_slice(data['silicate'], depth=0)\n",
      "fig, ax, cbar = plot_horizontal_slice(data['nitrate'], depth=0)"
     ],
     "language": "python",
     "metadata": {},
     "outputs": [],
     "prompt_number": null
    }
   ],
   "metadata": {}
  }
 ]
}