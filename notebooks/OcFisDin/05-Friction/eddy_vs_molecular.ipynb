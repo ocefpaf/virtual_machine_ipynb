{
 "metadata": {
  "name": "",
  "signature": "sha256:17b381dab410e04db9dbc5d23bf98b7a0bbe2130819b55e41e1a90f19f0c0585"
 },
 "nbformat": 3,
 "nbformat_minor": 0,
 "worksheets": [
  {
   "cells": [
    {
     "cell_type": "code",
     "collapsed": false,
     "input": [
      "import numpy as np\n",
      "import matplotlib.pyplot as plt\n",
      "\n",
      "from sympy.interactive import printing\n",
      "from sympy import Eq, Function, Derivative, symbols, dsolve\n",
      "\n",
      "printing.init_printing()"
     ],
     "language": "python",
     "metadata": {},
     "outputs": []
    },
    {
     "cell_type": "code",
     "collapsed": false,
     "input": [
      "t, z, Az, W = symbols('t z A_z, W',  real=True)\n",
      "u = Function('u')"
     ],
     "language": "python",
     "metadata": {},
     "outputs": []
    },
    {
     "cell_type": "code",
     "collapsed": false,
     "input": [
      "dudt = Eq(Derivative(u(z), z, z) - W/Az*Derivative(u(z), z))\n",
      "dudt"
     ],
     "language": "python",
     "metadata": {},
     "outputs": []
    },
    {
     "cell_type": "code",
     "collapsed": false,
     "input": [
      "dsolve(dudt)"
     ],
     "language": "python",
     "metadata": {},
     "outputs": []
    },
    {
     "cell_type": "code",
     "collapsed": false,
     "input": [
      "W = 1e-3  # (m/s)\n",
      "Az = 10e-4  # (m^2/s)\n",
      "z = np.linspace(0, 15, 100)  # (m)\n",
      "Uo = 0.5  # m/s"
     ],
     "language": "python",
     "metadata": {},
     "outputs": []
    },
    {
     "cell_type": "code",
     "collapsed": false,
     "input": [
      "day1 = Uo * np.exp((W/Az) * -z)\n",
      "day10 = Uo * np.exp((W/Az/10) * -z)\n",
      "day1year = Uo * np.exp((W/Az/365) * -z)\n",
      "\n",
      "fig, ax = plt.subplots(figsize=(4, 6))\n",
      "ax.plot(day1, z, 'k')\n",
      "ax.plot(day10, z, 'g')\n",
      "ax.plot(day1year, z, 'r')\n",
      "ax.invert_yaxis()\n",
      "\n",
      "ax.set_xlabel(r'Speed [m s$^{-1}$]')\n",
      "ax.set_ylabel('Depth [m]')"
     ],
     "language": "python",
     "metadata": {},
     "outputs": []
    }
   ],
   "metadata": {}
  }
 ]
}