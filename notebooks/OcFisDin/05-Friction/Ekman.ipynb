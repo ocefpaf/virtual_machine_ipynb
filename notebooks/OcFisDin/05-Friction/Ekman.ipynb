{
 "metadata": {
  "name": "",
  "signature": "sha256:06fc6cb3275bc129c2e3351692060776d3ce546abe90d5ec7cf2a732b6c6c520"
 },
 "nbformat": 3,
 "nbformat_minor": 0,
 "worksheets": [
  {
   "cells": [
    {
     "cell_type": "code",
     "collapsed": false,
     "input": [
      "import numpy as np\n",
      "import numpy.ma as ma\n",
      "from scipy.io import loadmat\n",
      "import matplotlib.pyplot as plt\n",
      "from mpl_toolkits.basemap import Basemap\n",
      "\n",
      "\n",
      "def curl(lon, lat, taux, tauy):\n",
      "    \"\"\"Return midlon, midlat, curl(tau) based on first differences.\n",
      "    CAVEAT: Lon are columns and Lat are rows.  The differences might change if this is reverse!\"\"\"\n",
      "\n",
      "    re = 6371e3\n",
      "    latrad = np.deg2rad(lat)\n",
      "    lonrad = np.deg2rad(lon)\n",
      "    midlon = 0.5 * (lon[:-1] + lon[1:])\n",
      "    print(midlon.min(), midlon.max())\n",
      "    midlat = 0.5 * (lat[:-1] + lat[1:])\n",
      "\n",
      "    # See Vallis page 59.\n",
      "    rfac = (1.0 / re) / np.cos(np.deg2rad(midlat))\n",
      "\n",
      "    dvdx = np.diff(tauy, axis=-1) / np.diff(lonrad)\n",
      "    dvdx = 0.5 * (dvdx[1:, ...] + dvdx[:-1, ...])\n",
      "\n",
      "    du = np.diff(taux * np.cos(latrad)[..., None], axis=0)\n",
      "    dudy = du / np.diff(latrad)[..., None]\n",
      "    dudy = 0.5 * (dudy[..., 1:] + dudy[..., :-1])\n",
      "\n",
      "    curltau = rfac[..., None] * (dvdx - dudy)\n",
      "    return midlon, midlat, curltau\n",
      "\n",
      "\n",
      "def make_basemap(llcrnrlat, urcrnrlat, llcrnrlon, urcrnrlon,\n",
      "                 projection='merc', figsize=(8, 4), resolution='c'):\n",
      "    fig, ax = plt.subplots(figsize=figsize)\n",
      "    m = Basemap(projection='merc', llcrnrlat=llcrnrlat, urcrnrlat=urcrnrlat,\n",
      "                llcrnrlon=llcrnrlon, urcrnrlon=urcrnrlon, resolution=resolution)\n",
      "    m.ax = ax\n",
      "    m.drawcoastlines()\n",
      "    m.fillcontinents(color='0.85')\n",
      "    dx, dy = 15, 10\n",
      "    meridians = np.arange(llcrnrlon+dx, urcrnrlon+dx, dx)\n",
      "    parallels = np.arange(llcrnrlat, urcrnrlat, dy)\n",
      "    kw = dict(color='k', alpha=0.5)\n",
      "    m.drawparallels(parallels, labels=[1, 0, 0, 0], **kw)\n",
      "    m.drawmeridians(meridians, labels=[0, 0, 0, 1], **kw)\n",
      "    return fig, m\n",
      "\n",
      "def unit_uv(u, v):\n",
      "    vec = u + 1j * v\n",
      "    spd = np.abs(vec)\n",
      "    ang = np.angle(vec, deg=True)\n",
      "    ang = np.mod(90 - ang, 360)\n",
      "    u = np.sin(np.deg2rad(ang))\n",
      "    v = np.cos(np.deg2rad(ang))\n",
      "    return u, v"
     ],
     "language": "python",
     "metadata": {},
     "outputs": []
    },
    {
     "cell_type": "markdown",
     "metadata": {},
     "source": [
      "### Dados."
     ]
    },
    {
     "cell_type": "code",
     "collapsed": false,
     "input": [
      "AS_vento = loadmat('AS_vento.mat', squeeze_me=True)\n",
      "lon, lat = AS_vento['lon'], AS_vento['lat']\n",
      "lat = ma.masked_inside(lat, -4, 4)\n",
      "u, v = AS_vento['uver'], AS_vento['vver']  # Ver\u00e3o.\n",
      "#u, v = AS_vento['uinv'], AS_vento['vinv']  # Inverno.\n",
      "u, v = ma.masked_invalid(u), ma.masked_invalid(v)\n",
      "lon, lat = np.meshgrid(lon, lat)\n",
      "\n",
      "rho_ar = 1.226  # kg m^{-3}\n",
      "rho0 = 1025  # kg m^{-3}\n",
      "omega = 2 * np.pi / (60*60*24)  # rad s^{-1}\n",
      "f0 = 2 * omega * np.sin(np.deg2rad(lat))  # rad s^{-1}"
     ],
     "language": "python",
     "metadata": {},
     "outputs": []
    },
    {
     "cell_type": "code",
     "collapsed": false,
     "input": [
      "cut = slice(0, -1, 15), slice(0, -1, 15)\n",
      "\n",
      "fig, m = make_basemap(llcrnrlat=lat.min(), urcrnrlat=lat.max(),\n",
      "                       llcrnrlon=lon.min(), urcrnrlon=lon.max(),\n",
      "                       projection='merc', figsize=(8, 8), resolution='i')\n",
      "kw = dict(latlon=True, color='cornflowerblue')\n",
      "Q = m.quiver(lon[cut], lat[cut], u[cut], v[cut], **kw)\n",
      "arrow = 10\n",
      "m.ax.quiverkey(Q, 0.2, 0.65, arrow, r'%s m s$^{-1}$' % arrow, color='k', labelpos='N', coordinates='figure')"
     ],
     "language": "python",
     "metadata": {},
     "outputs": []
    },
    {
     "cell_type": "markdown",
     "metadata": {},
     "source": [
      "### Tens\u00e3o de cisalhamento do vento."
     ]
    },
    {
     "cell_type": "code",
     "collapsed": false,
     "input": [
      "def drag_coeff(Ustar):\n",
      "    \"\"\"Mellor (2004).\"\"\"\n",
      "    return 7.5e-4 + 6.7e-5 * Ustar"
     ],
     "language": "python",
     "metadata": {},
     "outputs": []
    },
    {
     "cell_type": "code",
     "collapsed": false,
     "input": [
      "mag = np.sqrt(u**2 + v**2)  # m s^{-1}\n",
      "Cd = drag_coeff(mag)\n",
      "taux = rho_ar * Cd * mag * u  # N m^{-2}\n",
      "tauy = rho_ar * Cd * mag * v  # N m^{-2}"
     ],
     "language": "python",
     "metadata": {},
     "outputs": []
    },
    {
     "cell_type": "code",
     "collapsed": false,
     "input": [
      "cut = slice(0, -1, 15), slice(0, -1, 15)\n",
      "\n",
      "fig, m = make_basemap(llcrnrlat=lat.min(), urcrnrlat=lat.max(),\n",
      "                      llcrnrlon=lon.min(), urcrnrlon=lon.max(),\n",
      "                      projection='merc', figsize=(8, 8), resolution='i')\n",
      "kw = dict(latlon=True, color='cornflowerblue')\n",
      "Q = m.quiver(lon[cut], lat[cut], taux[cut], tauy[cut], **kw)\n",
      "arrow = 0.1\n",
      "m.ax.quiverkey(Q, 0.2, 0.65, arrow, r'%s N m$^{-2}$' % arrow, color='k', labelpos='N', coordinates='figure')"
     ],
     "language": "python",
     "metadata": {},
     "outputs": []
    },
    {
     "cell_type": "markdown",
     "metadata": {},
     "source": [
      "### Transporte de Ekman."
     ]
    },
    {
     "cell_type": "markdown",
     "metadata": {},
     "source": [
      "\\begin{align*}\n",
      "0 &= -fu + \\dfrac{1}{\\rho}\\dfrac{\\partial{\\tau_y}}{\\partial z} \\\\\n",
      "0 &= +fv + \\dfrac{1}{\\rho}\\dfrac{\\partial{\\tau_x}}{\\partial z} \\\\\n",
      "\\end{align*}"
     ]
    },
    {
     "cell_type": "code",
     "collapsed": false,
     "input": [
      "Ue = +tauy / (rho0 * f0)  # m^2 s^{-1}\n",
      "Ve = -taux / (rho0 * f0)  # m^2 s^{-1}"
     ],
     "language": "python",
     "metadata": {},
     "outputs": []
    },
    {
     "cell_type": "code",
     "collapsed": false,
     "input": [
      "cut = slice(0, -1, 15), slice(0, -1, 15)\n",
      "\n",
      "fig, m = make_basemap(llcrnrlat=lat.min(), urcrnrlat=lat.max(),\n",
      "                       llcrnrlon=lon.min(), urcrnrlon=lon.max(),\n",
      "                       projection='merc', figsize=(8, 8), resolution='i')\n",
      "kw = dict(latlon=True, color='cornflowerblue')\n",
      "Q = m.quiver(lon[cut], lat[cut], Ue[cut], Ve[cut], **kw)\n",
      "arrow = 2\n",
      "m.ax.quiverkey(Q, 0.2, 0.65, arrow, r'%s m$^2$ s$^{-1}$' % arrow, color='k', labelpos='N', coordinates='figure')"
     ],
     "language": "python",
     "metadata": {},
     "outputs": []
    },
    {
     "cell_type": "markdown",
     "metadata": {},
     "source": [
      "### Componente vertical do rotacional do vetor tens\u00e3o de cisalhamento do vento."
     ]
    },
    {
     "cell_type": "markdown",
     "metadata": {},
     "source": [
      "### Bombeamento de Ekman."
     ]
    },
    {
     "cell_type": "code",
     "collapsed": false,
     "input": [
      "midlon, midlat, rot = curl(lon[0, :], lat[:, 0], taux, tauy)\n",
      "midlon, midlat = np.meshgrid(midlon, midlat)"
     ],
     "language": "python",
     "metadata": {},
     "outputs": []
    },
    {
     "cell_type": "code",
     "collapsed": false,
     "input": [
      "f0c = 2 * omega * np.sin(np.deg2rad(midlat))\n",
      "We = rot / (rho0 * f0c)  # m s^{-1}"
     ],
     "language": "python",
     "metadata": {},
     "outputs": []
    },
    {
     "cell_type": "code",
     "collapsed": false,
     "input": [
      "cut = slice(0, -1, 15), slice(0, -1, 15)\n",
      "\n",
      "fig, m = make_basemap(llcrnrlat=lat.min(), urcrnrlat=lat.max(),\n",
      "                      llcrnrlon=lon.min(), urcrnrlon=lon.max(),\n",
      "                      projection='merc', figsize=(8, 8), resolution='i')\n",
      "scale = 1e5\n",
      "cs = m.pcolormesh(midlon, midlat, We*scale, cmap=plt.cm.RdBu, vmin=-0.8, vmax=0.8, latlon=True)\n",
      "cbar = fig.colorbar(cs, extend='both', orientation='vertical', shrink=0.65, pad=0.05)\n",
      "cbar.ax.set_ylabel(r'[m s$^{-1}$] We $\\times 10^-5$', rotation=-90, labelpad=20)\n",
      "\n",
      "tx, ty = unit_uv(taux, tauy)\n",
      "U, V = unit_uv(Ue, Ve)\n",
      "m.quiver(lon[cut], lat[cut], tx[cut], ty[cut], latlon=True, color='green', scale=30)\n",
      "m.quiver(lon[cut], lat[cut], U[cut], V[cut], latlon=True, color='black', scale=30)\n"
     ],
     "language": "python",
     "metadata": {},
     "outputs": []
    },
    {
     "cell_type": "code",
     "collapsed": false,
     "input": [
      "fig, ax = plt.subplots()\n",
      "ax.plot(We.mean(axis=1)*scale, midlat[:, 0])\n",
      "ax.vlines(0, midlat.min(), midlat.max())"
     ],
     "language": "python",
     "metadata": {},
     "outputs": []
    }
   ],
   "metadata": {}
  }
 ]
}