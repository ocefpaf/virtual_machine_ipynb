{
 "metadata": {
  "name": "",
  "signature": "sha256:caeb0b797d32f9e5cade6735e672b5d5a174eaa1b0783aeb4d124cc31758555a"
 },
 "nbformat": 3,
 "nbformat_minor": 0,
 "worksheets": [
  {
   "cells": [
    {
     "cell_type": "code",
     "collapsed": false,
     "input": [
      "from IPython.display import Image\n",
      "\n",
      "Image('itaguare.jpg', format='jpg', retina=True)"
     ],
     "language": "python",
     "metadata": {},
     "outputs": [],
     "prompt_number": null
    },
    {
     "cell_type": "code",
     "collapsed": false,
     "input": [
      "import numpy as np\n",
      "import matplotlib.pyplot as plt\n",
      "from mpl_toolkits.basemap import Basemap\n",
      "\n",
      "\n",
      "def make_map(llcrnrlon=None, urcrnrlon=None, llcrnrlat=None, urcrnrlat=None, img='itaguare_cropped.jpg'):\n",
      "    m = Basemap(projection='merc', llcrnrlon=llcrnrlon, urcrnrlon=urcrnrlon,\n",
      "                llcrnrlat=llcrnrlat, urcrnrlat=urcrnrlat, resolution='c',\n",
      "                lat_ts=(llcrnrlat + urcrnrlat) / 2.)\n",
      "\n",
      "    fig, ax = plt.subplots(figsize=(10, 10), facecolor='none')\n",
      "    m.ax = ax\n",
      "\n",
      "    image = plt.imread(img)\n",
      "    m.imshow(image, origin='upper', alpha=0.75)\n",
      "  \n",
      "    meridians = np.linspace(llcrnrlon, urcrnrlon, 4)\n",
      "    parallels = np.linspace(llcrnrlat, urcrnrlat, 4)\n",
      "    kw = dict(linewidth=0)\n",
      "    m.drawparallels(parallels, labels=[1, 0, 0, 0], **kw)\n",
      "    m.drawmeridians(meridians, labels=[0, 0, 0, 1], **kw)\n",
      "    return fig, m"
     ],
     "language": "python",
     "metadata": {},
     "outputs": [],
     "prompt_number": null
    },
    {
     "cell_type": "code",
     "collapsed": false,
     "input": [
      "from pandas import DataFrame\n",
      "\n",
      "df1 = DataFrame.from_csv('drifter_01.txt')\n",
      "df2 = DataFrame.from_csv('drifter_02.txt')"
     ],
     "language": "python",
     "metadata": {},
     "outputs": [],
     "prompt_number": null
    },
    {
     "cell_type": "code",
     "collapsed": false,
     "input": [
      "from pyproj import Proj\n",
      "\n",
      "myProj = Proj(\"+proj=utm +zone=23K, +south +ellps=WGS84 +datum=WGS84 +units=m +no_defs\")\n",
      "\n",
      "UTMx, UTMy = myProj(df1['lon'].values, df1['lat'].values)\n",
      "df1['UTMx'], df1['UTMy'] = UTMx, UTMy\n",
      "\n",
      "UTMx, UTMy = myProj(df2['lon'].values, df2['lat'].values)\n",
      "df2['UTMx'], df2['UTMy'] = UTMx, UTMy"
     ],
     "language": "python",
     "metadata": {},
     "outputs": [],
     "prompt_number": null
    },
    {
     "cell_type": "markdown",
     "metadata": {},
     "source": [
      "\\begin{align*}\n",
      "\\dfrac{dx}{dt} &= u \\\\\n",
      "\\dfrac{dy}{dt} &= v\n",
      "\\end{align*}"
     ]
    },
    {
     "cell_type": "code",
     "collapsed": false,
     "input": [
      "def vel(x, t):\n",
      "    dx = np.diff(x)\n",
      "    dt = np.diff(t) / np.timedelta64(1, 's')\n",
      "    return np.r_[0, dx / dt]\n",
      "\n",
      "df1['u'] = vel(df1['UTMx'], df1.index.values)\n",
      "df1['v'] = vel(df1['UTMy'], df1.index.values)\n",
      "\n",
      "df2['u'] = vel(df2['UTMx'], df2.index.values)\n",
      "df2['v'] = vel(df2['UTMy'], df2.index.values)"
     ],
     "language": "python",
     "metadata": {},
     "outputs": [],
     "prompt_number": null
    },
    {
     "cell_type": "code",
     "collapsed": false,
     "input": [
      "df1.head(5)"
     ],
     "language": "python",
     "metadata": {},
     "outputs": [],
     "prompt_number": null
    },
    {
     "cell_type": "code",
     "collapsed": false,
     "input": [
      "df2.head(5)"
     ],
     "language": "python",
     "metadata": {},
     "outputs": [],
     "prompt_number": null
    },
    {
     "cell_type": "code",
     "collapsed": false,
     "input": [
      "df2.columns"
     ],
     "language": "python",
     "metadata": {},
     "outputs": [],
     "prompt_number": null
    },
    {
     "cell_type": "code",
     "collapsed": false,
     "input": [
      "llcrnrlon = -(45 + (58 + 32.27/60) / 60)  # 45\u00b058'32.27\"W\n",
      "urcrnrlon = -(45 + (57 + 54.54/60) / 60)  # 45\u00b057'54.54\"W\n",
      "llcrnrlat = -(23 + (47 +  7.65/60) / 60)  # 23\u00b047' 7.65\"S\n",
      "urcrnrlat = -(23 + (46 + 42.25/60) / 60)  # 23\u00b046'42.25\"S\n",
      "\n",
      "fig, m = make_map(llcrnrlon=llcrnrlon, urcrnrlon=urcrnrlon, llcrnrlat=llcrnrlat, urcrnrlat=urcrnrlat)\n",
      "\n",
      "kw = dict(marker='o', markeredgecolor='w', markersize=6, linestyle='none', latlon=True)\n",
      "\n",
      "_ = m.plot(df1['lon'].values, df1['lat'].values, markerfacecolor='b', **kw)\n",
      "_ = m.plot(df2['lon'].values, df2['lat'].values, markerfacecolor='r', **kw)"
     ],
     "language": "python",
     "metadata": {},
     "outputs": [],
     "prompt_number": null
    },
    {
     "cell_type": "markdown",
     "metadata": {},
     "source": [
      "http://upload.wikimedia.org/wikipedia/commons/9/9b/LA2-South-America-UTM-zones.png"
     ]
    },
    {
     "cell_type": "code",
     "collapsed": false,
     "input": [
      "fig, ((ax0, ax1), (ax2, ax3)) = plt.subplots(nrows=2, ncols=2, figsize=(12, 6))\n",
      "\n",
      "ax0.plot(df1.index, df1['UTMx'] - df1['UTMx'].iloc[0])\n",
      "ax0.set_ylabel(\"Drifter 1 (X) [m]\")\n",
      "\n",
      "ax1.plot(df2.index, df2['UTMx'] - df2['UTMx'].iloc[0])\n",
      "ax1.set_ylabel(\"Drifter 2 (X) [m]\")\n",
      "\n",
      "ax2.plot(df1.index, df1['UTMy'] - df1['UTMy'].iloc[0])\n",
      "ax2.set_ylabel(\"Drifter 1 (Y) [m]\")\n",
      "\n",
      "ax3.plot(df2.index, df2['UTMy'] - df2['UTMy'].iloc[0])\n",
      "ax3.set_ylabel(\"Drifter 2 (Y) [m]\")"
     ],
     "language": "python",
     "metadata": {},
     "outputs": [],
     "prompt_number": null
    },
    {
     "cell_type": "code",
     "collapsed": false,
     "input": [
      "fig, ((ax0, ax1), (ax2, ax3)) = plt.subplots(nrows=2, ncols=2, figsize=(12, 6))\n",
      "\n",
      "ax0.plot(df1.index, df1['u'])\n",
      "ax0.set_ylabel(\"Drifter 1 (u) [$m s^{-1}$]\")\n",
      "\n",
      "ax1.plot(df2.index, df2['u'])\n",
      "ax1.set_ylabel(\"Drifter 2 (u) [$m s^{-1}$]\")\n",
      "\n",
      "ax2.plot(df1.index, df1['v'])\n",
      "ax2.set_ylabel(\"Drifter 1 (v) [$m s^{-1}$]\")\n",
      "\n",
      "ax3.plot(df2.index, df2['v'])\n",
      "ax3.set_ylabel(\"Drifter 2 (v) [$m s^{-1}$]\")"
     ],
     "language": "python",
     "metadata": {},
     "outputs": [],
     "prompt_number": null
    }
   ],
   "metadata": {}
  }
 ]
}