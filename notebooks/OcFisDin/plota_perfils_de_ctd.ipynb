{
 "metadata": {
  "name": ""
 },
 "nbformat": 3,
 "nbformat_minor": 0,
 "worksheets": [
  {
   "cells": [
    {
     "cell_type": "code",
     "collapsed": false,
     "input": [
      "from IPython.core.display import HTML\n",
      "\n",
      "with open('../../common/creativecommons.html', 'r') as f:\n",
      "    html = f.read()\n",
      "    \n",
      "with open('../../common/custom.css', 'r') as f:\n",
      "    styles = f.read()\n",
      "    \n",
      "HTML(styles)\n",
      "\n",
      "text = 'Check this post at'\n",
      "uri = 'http://nbviewer.ipython.org/urls/raw.github.com/ocefpaf/python4oceanographers/master/content/downloads/notebooks'\n",
      "name = get_notebook_name()\n",
      "link = \"\"\"<p>%s <a href=\"%s/%s\"><em>nbviewer</em>.</a></p>\"\"\" % (text, uri, name)\n",
      "html += str(link)"
     ],
     "language": "python",
     "metadata": {},
     "outputs": [],
     "prompt_number": null
    },
    {
     "cell_type": "markdown",
     "metadata": {},
     "source": [
      "## Exemplo de como plotar perfil de CTD."
     ]
    },
    {
     "cell_type": "markdown",
     "metadata": {},
     "source": [
      "#### Primeiro importamos (carregamos) os m\u00f3dulos que vamos utilizar."
     ]
    },
    {
     "cell_type": "code",
     "collapsed": false,
     "input": [
      "import numpy as np\n",
      "import matplotlib.pyplot as plt\n",
      "import mpl_toolkits.axisartist as AA\n",
      "from mpl_toolkits.axes_grid1 import host_subplot"
     ],
     "language": "python",
     "metadata": {},
     "outputs": [],
     "prompt_number": null
    },
    {
     "cell_type": "markdown",
     "metadata": {},
     "source": [
      "### Agora vamos ler um arquivo com dados de CTD."
     ]
    },
    {
     "cell_type": "code",
     "collapsed": false,
     "input": [
      "!cat dados/leia_me.txt"
     ],
     "language": "python",
     "metadata": {},
     "outputs": [],
     "prompt_number": null
    },
    {
     "cell_type": "code",
     "collapsed": false,
     "input": [
      "PRS, TMP, SAL = np.loadtxt('dados/estacao15.dat', skiprows=1, usecols=(0, 3, 4), unpack=True)"
     ],
     "language": "python",
     "metadata": {},
     "outputs": [],
     "prompt_number": null
    },
    {
     "cell_type": "markdown",
     "metadata": {},
     "source": [
      "### Finalmente plotamos os dados."
     ]
    },
    {
     "cell_type": "code",
     "collapsed": false,
     "input": [
      "deg = u\"\\u00b0\"\n",
      "\n",
      "fig = plt.figure(figsize=(6, 8))\n",
      "ax0 = host_subplot(111, axes_class=AA.Axes)\n",
      "ax1 = ax0.twiny()\n",
      "\n",
      "host_new_axis = ax0.get_grid_helper().new_fixed_axis\n",
      "ax0.axis[\"bottom\"] = host_new_axis(loc=\"top\", axes=ax0, offset=(0, 0))\n",
      "par_new_axis = ax1.get_grid_helper().new_fixed_axis\n",
      "ax1.axis[\"top\"] = par_new_axis(loc=\"bottom\", axes=ax1, offset=(0, 0))\n",
      "\n",
      "ax0.plot(TMP, PRS, linewidth=2.0, color='blue', label=r'Temperatura [%sC]' % deg)\n",
      "ax1.plot(SAL, PRS, linewidth=2.0, color='grey', label=r'Salinidade [Kg g$^{-1}$]')\n",
      "\n",
      "ax0.set_ylabel(u\"Press\u00e3o [dbar]\")\n",
      "ax0.set_xlabel(\"Temperatura\")\n",
      "ax1.set_xlabel(\"Salinidade\")\n",
      "ax1.invert_yaxis()\n",
      "\n",
      "title = r\"Exemplo de perfil de CTD\"\n",
      "ax0.text(0.5, 0.99, title, horizontalalignment='center', verticalalignment='center', transform=fig.transFigure, rotation='horizontal')\n",
      "_ = ax0.legend(shadow=True, fancybox=True, numpoints=1, loc='best')"
     ],
     "language": "python",
     "metadata": {},
     "outputs": [],
     "prompt_number": null
    },
    {
     "cell_type": "code",
     "collapsed": false,
     "input": [
      "HTML(html)"
     ],
     "language": "python",
     "metadata": {},
     "outputs": [],
     "prompt_number": null
    }
   ],
   "metadata": {}
  }
 ]
}