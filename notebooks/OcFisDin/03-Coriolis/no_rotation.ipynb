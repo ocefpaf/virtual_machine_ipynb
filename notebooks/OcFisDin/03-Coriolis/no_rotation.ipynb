{
 "metadata": {
  "name": "",
  "signature": "sha256:2325aa21ff997d7d0a0ae17dcb7b094d27f0eb5c962be5837fa30684203168e6"
 },
 "nbformat": 3,
 "nbformat_minor": 0,
 "worksheets": [
  {
   "cells": [
    {
     "cell_type": "code",
     "collapsed": false,
     "input": [
      "import numpy as np\n",
      "import matplotlib.pyplot as plt\n",
      "\n",
      "from sympy.interactive import printing\n",
      "from sympy import Eq, Derivative, Function, symbols, integrate, lambdify, dsolve\n",
      "\n",
      "printing.init_printing()"
     ],
     "language": "python",
     "metadata": {},
     "outputs": []
    },
    {
     "cell_type": "code",
     "collapsed": false,
     "input": [
      "t, g, f, ix = symbols('t g f i_x', nonzero=True, constant=True)\n",
      "u = Function('u')(t)\n",
      "v = Function('v')(t)\n",
      "\n",
      "time = np.arange(0, 10.)\n",
      "subs = [(g, -9.8), (ix, 1e-1)]"
     ],
     "language": "python",
     "metadata": {},
     "outputs": []
    },
    {
     "cell_type": "code",
     "collapsed": false,
     "input": [
      "dudt = Eq(Derivative(u, t), -g*ix)\n",
      "dudt"
     ],
     "language": "python",
     "metadata": {},
     "outputs": []
    },
    {
     "cell_type": "code",
     "collapsed": false,
     "input": [
      "ut = integrate(dudt, t)\n",
      "ut"
     ],
     "language": "python",
     "metadata": {},
     "outputs": []
    },
    {
     "cell_type": "code",
     "collapsed": false,
     "input": [
      "X = integrate(dudt, t, t)\n",
      "X"
     ],
     "language": "python",
     "metadata": {},
     "outputs": []
    },
    {
     "cell_type": "code",
     "collapsed": false,
     "input": [
      "func = ut.subs(subs)\n",
      "func = lambdify(t, func.rhs, \"numpy\")\n",
      "vel = func(time)\n",
      "\n",
      "func = X.subs([(g, -9.8), (ix, 1e-1)])\n",
      "func = lambdify(t, func.rhs, \"numpy\")\n",
      "des = func(time)\n",
      "\n",
      "fig, (ax0, ax1) = plt.subplots(nrows=2, figsize=(8, 4), sharex=True)\n",
      "ax0.grid(True)\n",
      "ax0.plot(time, vel)\n",
      "ax0.set_ylabel(r'Velocidade [m s$^{-1}$]')\n",
      "ax1.grid(True)\n",
      "\n",
      "ax1.plot(time, des)\n",
      "ax1.set_xlabel('Tempo [s]')\n",
      "ax1.set_ylabel(r'Deslocamento [m]')"
     ],
     "language": "python",
     "metadata": {},
     "outputs": []
    },
    {
     "cell_type": "markdown",
     "metadata": {},
     "source": [
      "Como seria uma gr\u00e1fico $x, y$ da trajet\u00f3ria da part\u00edcula?"
     ]
    }
   ],
   "metadata": {}
  }
 ]
}