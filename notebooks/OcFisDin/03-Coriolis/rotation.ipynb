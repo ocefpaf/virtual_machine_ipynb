{
 "metadata": {
  "name": "",
  "signature": "sha256:08e514d05150f50ee090ea02b141a2264a68f9081bd4ff28e8093512afa98ddf"
 },
 "nbformat": 3,
 "nbformat_minor": 0,
 "worksheets": [
  {
   "cells": [
    {
     "cell_type": "code",
     "collapsed": true,
     "input": [
      "import numpy as np\n",
      "import matplotlib.pyplot as plt\n",
      "\n",
      "from sympy.mpmath import odefun\n",
      "from sympy.interactive import printing\n",
      "from sympy import Eq, Function, Derivative\n",
      "from sympy import symbols, lambdify, dsolve, cos, sin\n",
      "\n",
      "printing.init_printing()"
     ],
     "language": "python",
     "metadata": {},
     "outputs": [],
     "prompt_number": null
    },
    {
     "cell_type": "code",
     "collapsed": false,
     "input": [
      "t = symbols('t')\n",
      "g, f, ix = symbols('g f i_x', real=True) #nonzero=True, constant=True)\n",
      "u = Function('u')\n",
      "v = Function('v')\n",
      "\n",
      "time = np.arange(10)\n",
      "subs = [(g, -9.8), (ix, 1e-1), (f, 1e-4)]"
     ],
     "language": "python",
     "metadata": {},
     "outputs": [],
     "prompt_number": null
    },
    {
     "cell_type": "markdown",
     "metadata": {},
     "source": [
      "Equa\u00e7\u00e3o para $x$:"
     ]
    },
    {
     "cell_type": "code",
     "collapsed": false,
     "input": [
      "dudt = Eq(Derivative(u(t), t), -g*ix + f*v(t))\n",
      "dudt"
     ],
     "language": "python",
     "metadata": {},
     "outputs": [],
     "prompt_number": null
    },
    {
     "cell_type": "markdown",
     "metadata": {},
     "source": [
      "Equa\u00e7\u00e3o para $y$:"
     ]
    },
    {
     "cell_type": "code",
     "collapsed": false,
     "input": [
      "dvdt = Eq(v(t).diff(t), -f*u(t))\n",
      "dvdt"
     ],
     "language": "python",
     "metadata": {},
     "outputs": [],
     "prompt_number": null
    },
    {
     "cell_type": "markdown",
     "metadata": {},
     "source": [
      "Fazendo $\\dfrac{\\partial}{\\partial t}$ da eq. para $x$ e substituindo na eq. para $y$:"
     ]
    },
    {
     "cell_type": "code",
     "collapsed": false,
     "input": [
      "d2udt2 = Eq(u(t).diff(t, t) - f*(-f*u(t)), 0)\n",
      "d2udt2"
     ],
     "language": "python",
     "metadata": {},
     "outputs": [],
     "prompt_number": null
    },
    {
     "cell_type": "markdown",
     "metadata": {},
     "source": [
      "Temos uma **equa\u00e7\u00e3o diferencial homog\u00eanea de segunda ordem**.  A Solu\u00e7\u00e3o tem a forma:"
     ]
    },
    {
     "cell_type": "code",
     "collapsed": false,
     "input": [
      "soln = dsolve(d2udt2, u(t))\n",
      "soln"
     ],
     "language": "python",
     "metadata": {},
     "outputs": [],
     "prompt_number": null
    },
    {
     "cell_type": "markdown",
     "metadata": {},
     "source": [
      "S\u00e3o necess\u00e1rias no m\u00ednimo duas condi\u00e7\u00f5es de contorno para resolver uma eq. de segunda ordem.  Usaremos:\n",
      "\n",
      "\\begin{align*}\n",
      "u&=0, \\quad t=0 \\\\\n",
      "v&=0, \\quad t=0\n",
      "\\end{align*} "
     ]
    },
    {
     "cell_type": "code",
     "collapsed": false,
     "input": [
      "soln.subs(t, 0)"
     ],
     "language": "python",
     "metadata": {},
     "outputs": [],
     "prompt_number": null
    },
    {
     "cell_type": "markdown",
     "metadata": {},
     "source": [
      "Logo, a constante $C_2$ \u00e9 0.  Subistituindo temos."
     ]
    },
    {
     "cell_type": "code",
     "collapsed": false,
     "input": [
      "C2 = symbols('C_1', constant=True)\n",
      "\n",
      "cond1 = Eq(u(t), C2*sin(t*abs(f)))\n",
      "cond1"
     ],
     "language": "python",
     "metadata": {},
     "outputs": [],
     "prompt_number": null
    },
    {
     "cell_type": "markdown",
     "metadata": {},
     "source": [
      "Substituindo na eq. para $x$ termos:"
     ]
    },
    {
     "cell_type": "code",
     "collapsed": false,
     "input": [
      "app = dudt.subs(u(t), cond1.rhs)\n",
      "app"
     ],
     "language": "python",
     "metadata": {},
     "outputs": [],
     "prompt_number": null
    },
    {
     "cell_type": "code",
     "collapsed": false,
     "input": [
      "app = app.doit()\n",
      "app"
     ],
     "language": "python",
     "metadata": {},
     "outputs": [],
     "prompt_number": null
    },
    {
     "cell_type": "code",
     "collapsed": false,
     "input": [
      "a = app.subs(t, 0).subs(v(0), 0)\n",
      "a"
     ],
     "language": "python",
     "metadata": {},
     "outputs": [],
     "prompt_number": null
    },
    {
     "cell_type": "code",
     "collapsed": false,
     "input": [
      "import numpy as np\n",
      "import seawater as sw\n",
      "import matplotlib.pyplot as plt\n",
      "\n",
      "lat = 10  # 30, 45, 60, 90\n",
      "ix = 0.01  # 0.001\n",
      "n_cycles = 4\n",
      "\n",
      "g = sw.g(lat)\n",
      "f = sw.f(lat)\n",
      "time = np.linspace(0, n_cycles*2*np.pi, 100)\n",
      "\n",
      "# Scales.\n",
      "T = f\n",
      "L = g*ix / f**2\n",
      "U = g*ix / f\n",
      "\n",
      "time /= T\n",
      "x =  g*ix / f**2 * (np.cos(f*time) - 1 )\n",
      "x = x / L\n",
      "y =  g*ix / f**2 * (f*time - np.sin(f*time) )\n",
      "y = y / L\n",
      "\n",
      "u = -g*ix / f*np.sin(f*time)\n",
      "v =  g*ix / f*(1 -np.cos(f*time))\n",
      "u = u / U\n",
      "v = v / U\n",
      "\n",
      "time *= T\n",
      "kw = dict(nrows=2, ncols=2, sharex=True, figsize=(12, 4))\n",
      "fig, ((ax0, ax1), (ax2, ax3)) = plt.subplots(**kw) \n",
      "ax0.plot(time, u, 'k--')\n",
      "ax0.set_ylabel('u-velocity')\n",
      "\n",
      "ax1.plot(time, x, 'k--')\n",
      "ax1.set_ylabel('x-displacement')\n",
      "plt.xticks([0, 2*np.pi, 4*np.pi, 8*np.pi],\n",
      "           ['$0$', r'$2\\pi$', r'$4\\pi$', r'$8\\pi$'])\n",
      "\n",
      "ax2.plot(time, v, 'k--')\n",
      "ax2.set_ylabel('v-velocity')\n",
      "ax2.set_xlabel('time')\n",
      "\n",
      "ax3.plot(time, y, 'k--')\n",
      "ax3.set_ylabel('y-displacement')\n",
      "ax3.set_xlabel('time')\n",
      "_ = plt.xticks([0, 2*np.pi, 4*np.pi, 6*np.pi, 8*np.pi],\n",
      "               ['$0$', r'$2\\pi$', r'$4\\pi$', r'$6\\pi$', r'$8\\pi$'])"
     ],
     "language": "python",
     "metadata": {},
     "outputs": [],
     "prompt_number": null
    },
    {
     "cell_type": "code",
     "collapsed": false,
     "input": [
      "fig, ax = plt.subplots(figsize=(6, 2))\n",
      "ax.plot(y, x, 'k')\n",
      "ax.set_xlabel('y')\n",
      "ax.set_ylabel('x')\n",
      "_ = plt.xticks([0, 2*np.pi, 4*np.pi, 6*np.pi, 8*np.pi],\n",
      "               ['$0$', r'$2\\pi$', r'$4\\pi$', r'$6\\pi$', r'$8\\pi$'])"
     ],
     "language": "python",
     "metadata": {},
     "outputs": [],
     "prompt_number": null
    },
    {
     "cell_type": "code",
     "collapsed": false,
     "input": [],
     "language": "python",
     "metadata": {},
     "outputs": []
    }
   ],
   "metadata": {}
  }
 ]
}