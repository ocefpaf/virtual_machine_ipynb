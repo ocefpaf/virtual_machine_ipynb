{
 "metadata": {
  "name": "",
  "signature": "sha256:24cc518d08e5c26bd1bd8001c93dc0a1d5e0b2794d6717eaf61d3774d89e0363"
 },
 "nbformat": 3,
 "nbformat_minor": 0,
 "worksheets": [
  {
   "cells": [
    {
     "cell_type": "code",
     "collapsed": false,
     "input": [
      "import numpy as np\n",
      "import numpy.ma as ma\n",
      "import matplotlib.pyplot as plt\n",
      "from oceans.datasets import etopo_subset\n",
      "\n",
      "\n",
      "from mpl_toolkits.basemap import Basemap\n",
      "from matplotlib.patches import Polygon\n",
      "from mpl_toolkits.axes_grid1.inset_locator import inset_axes"
     ],
     "language": "python",
     "metadata": {},
     "outputs": [],
     "prompt_number": null
    },
    {
     "cell_type": "code",
     "collapsed": false,
     "input": [
      "def map_limits(m):\n",
      "    llcrnrlon = min(m.boundarylons)\n",
      "    urcrnrlon = max(m.boundarylons)\n",
      "    llcrnrlat = min(m.boundarylats)\n",
      "    urcrnrlat = max(m.boundarylats)\n",
      "    return llcrnrlon, urcrnrlon, llcrnrlat, urcrnrlat\n",
      "\n",
      "\n",
      "def make_map(llcrnrlon=-42, urcrnrlon=-33, llcrnrlat=-21.5,\n",
      "             urcrnrlat=-15.5, projection='merc', resolution='i',\n",
      "             figsize=(6, 6), inset=True):\n",
      "    m = Basemap(llcrnrlon=llcrnrlon, urcrnrlon=urcrnrlon,\n",
      "                llcrnrlat=llcrnrlat, urcrnrlat=urcrnrlat,\n",
      "                projection=projection, resolution=resolution)\n",
      "    fig, ax = plt.subplots(figsize=figsize)\n",
      "    m.drawstates()\n",
      "    m.drawcoastlines()\n",
      "    m.fillcontinents(color='0.85')\n",
      "    meridians = np.arange(llcrnrlon, urcrnrlon + 2, 2)\n",
      "    parallels = np.arange(llcrnrlat, urcrnrlat + 1, 1)\n",
      "    m.drawparallels(parallels, linewidth=0, labels=[1, 0, 0, 0])\n",
      "    m.drawmeridians(meridians, linewidth=0, labels=[0, 0, 0, 1])\n",
      "    m.llcrnrlon = llcrnrlon\n",
      "    m.urcrnrlon = urcrnrlon\n",
      "    m.llcrnrlat = llcrnrlat\n",
      "    m.urcrnrlat = urcrnrlat\n",
      "    m.ax = ax\n",
      "\n",
      "    if inset:\n",
      "        axin = inset_axes(m.ax, width=\"40%\", height=\"40%\", loc=5)\n",
      "        # Global inset map.\n",
      "        inmap = Basemap(projection='ortho', lon_0=-44.5, lat_0=-25.5,\n",
      "                        ax=axin, anchor='NE')\n",
      "        inmap.drawcountries(color='white')\n",
      "        inmap.fillcontinents(color='gray')\n",
      "        bx, by = inmap(m.boundarylons, m.boundarylats)\n",
      "        xy = list(zip(bx, by))\n",
      "        mapboundary = Polygon(xy, edgecolor='k', linewidth=1, fill=False)\n",
      "        inmap.ax.add_patch(mapboundary)\n",
      "    return fig, m"
     ],
     "language": "python",
     "metadata": {},
     "outputs": [],
     "prompt_number": null
    },
    {
     "cell_type": "code",
     "collapsed": false,
     "input": [
      "pos = '../../data/abrolhos/posicoes_abrolhos.dat'\n",
      "latd, latm, lond, lonm, depth, station = np.loadtxt(pos, unpack=True)\n",
      "\n",
      "lat = -(latd + latm/60.) \n",
      "lon = -(lond + lonm/60.)"
     ],
     "language": "python",
     "metadata": {},
     "outputs": [],
     "prompt_number": null
    },
    {
     "cell_type": "code",
     "collapsed": false,
     "input": [
      "fig, m = make_map(llcrnrlon=-42, urcrnrlon=-33,\n",
      "                  llcrnrlat=-21.5, urcrnrlat=-15.5, figsize=(7, 5))\n",
      "\n",
      "# Topography.\n",
      "topo = '../../data/ETOPO1_Bed_g_gmt4.grd'\n",
      "x, y, topo = etopo_subset(*map_limits(m), smoo=True, tfile=topo)\n",
      "topo = np.where(topo > -1., 1.e10, topo)\n",
      "topo = ma.masked_values(topo, 1.e10)\n",
      "\n",
      "# Coutour topography.\n",
      "levels = [100, 1500, 2000, 3000, 5000]\n",
      "cs = m.contour(x, y, -topo, levels, colors='k',\n",
      "               latlon=True, alpha=0.5)\n",
      "\n",
      "m.ax.clabel(cs, fmt='%1.0f m', fontsize=8, inline=1)\n",
      "\n",
      "# Plot stations.\n",
      "kw = dict(marker='.', markerfacecolor='r', markeredgecolor='k',\n",
      "          linestyle='none', latlon=True)\n",
      "_ = m.plot(lon, lat, **kw)"
     ],
     "language": "python",
     "metadata": {},
     "outputs": [],
     "prompt_number": null
    },
    {
     "cell_type": "code",
     "collapsed": false,
     "input": [
      "import gsw\n",
      "\n",
      "dist = gsw.distance(lon, lat)\n",
      "dist = np.r_[0, dist.cumsum()] / 1e3"
     ],
     "language": "python",
     "metadata": {},
     "outputs": [],
     "prompt_number": null
    },
    {
     "cell_type": "code",
     "collapsed": false,
     "input": [
      "fig, ax = plt.subplots(figsize=(5, 3))\n",
      "ax.plot(dist, depth, 'k.-')\n",
      "ax.plot(dist[2:9], depth[2:9], 'r.')\n",
      "ax.plot(dist[10:20], depth[10:20], 'r.')\n",
      "ax.set_ylim(-200, max(depth))\n",
      "ax.fill_betweenx(depth, dist, color='lightblue', alpha=0.5)\n",
      "ax.invert_yaxis()\n",
      "ax.set_ylabel('Depth [m]')\n",
      "ax.set_xlabel('Distance [km]')"
     ],
     "language": "python",
     "metadata": {},
     "outputs": [],
     "prompt_number": null
    },
    {
     "cell_type": "code",
     "collapsed": false,
     "input": [
      "import os\n",
      "from glob import glob\n",
      "from collections import OrderedDict\n",
      "\n",
      "from pandas import Panel\n",
      "from ctd import DataFrame, Series \n",
      "\n",
      "def proc_ctd(fname):\n",
      "    \"\"\"Quick-n-dirty CTD processing.\"\"\"\n",
      "    cast = DataFrame.from_fsi(fname, below_water=True,\n",
      "                              compression='bz2').split()[0]\n",
      "    # Removed unwanted columns.\n",
      "    keep = set(['POT*', 'SAL*'])\n",
      "    drop = keep.symmetric_difference(cast.columns)\n",
      "    cast.drop(drop, axis=1, inplace=True)\n",
      "    cast = cast.apply(Series.bindata, **dict(delta=1.))\n",
      "    cast = cast.apply(Series.interpolate)\n",
      "    cast.name = name\n",
      "    return cast\n",
      "\n",
      "section = OrderedDict()\n",
      "for fname in sorted(glob('../../data/abrolhos/*.txt.bz2')):\n",
      "    name = os.path.basename(fname).split('.')[0]\n",
      "    cast = proc_ctd(fname)\n",
      "    section.update({name: cast})\n",
      "    \n",
      "section = Panel.fromDict(section)\n",
      "SAL = section.minor_xs('SAL*')\n",
      "TEMP = section.minor_xs('POT*')\n",
      "\n",
      "SAL.lon, SAL.lat = lon, lat\n",
      "TEMP.lon, TEMP.lat = lon, lat"
     ],
     "language": "python",
     "metadata": {},
     "outputs": [],
     "prompt_number": null
    },
    {
     "cell_type": "code",
     "collapsed": false,
     "input": [
      "fig, ax, cb = TEMP.plot_section(figsize=(8, 4))\n",
      "fig, ax, cb = SAL.plot_section(figsize=(8, 4))"
     ],
     "language": "python",
     "metadata": {},
     "outputs": [],
     "prompt_number": null
    },
    {
     "cell_type": "code",
     "collapsed": false,
     "input": [
      "p = SAL.index.values[..., None]\n",
      "N2, p_mid = gsw.Nsquared(SAL.values, TEMP.values, p)\n",
      "N = np.sqrt(N2)\n",
      "N = ma.masked_invalid(N)"
     ],
     "language": "python",
     "metadata": {},
     "outputs": [],
     "prompt_number": null
    },
    {
     "cell_type": "code",
     "collapsed": false,
     "input": [
      "g = 9.8\n",
      "\n",
      "def Rd(lat0, h):\n",
      "    \"\"\"Raio de deforma\u00e7\u00e3o de Rossby.\"\"\"\n",
      "    return np.sqrt(g*h) / abs(gsw.f(lat0))\n",
      "\n",
      "def Rdi(lat0, N):\n",
      "    \"\"\"Compute the first baroclinic Rossby\n",
      "    radius after Chelton et al. 1998 J.Phys.Oc.\"\"\"\n",
      "    # Compute phase speed, equation 2.2\n",
      "    C = N / np.pi\n",
      "\n",
      "    # Compute radius.\n",
      "    return C / np.abs(gsw.f(lat0))"
     ],
     "language": "python",
     "metadata": {},
     "outputs": [],
     "prompt_number": null
    },
    {
     "cell_type": "markdown",
     "metadata": {},
     "source": [
      "First channel."
     ]
    },
    {
     "cell_type": "code",
     "collapsed": false,
     "input": [
      "#N0 = N.sum()\n",
      "N0 = N[600:-1].sum()\n",
      "lat0 = lat.mean()\n",
      "\n",
      "h = max(depth[2:9])\n",
      "\n",
      "R = dist[8] - dist[2]\n",
      "Rtrop = Rd(lat0, h) / 1e3\n",
      "Rclim = Rdi(lat0, N0) / 1e3\n",
      "\n",
      "print(\"R:    %i\\nRdi: %i\\nRd: %i\" % (R, Rclim, Rtrop))"
     ],
     "language": "python",
     "metadata": {},
     "outputs": [],
     "prompt_number": null
    },
    {
     "cell_type": "markdown",
     "metadata": {},
     "source": [
      "Second channel."
     ]
    },
    {
     "cell_type": "code",
     "collapsed": false,
     "input": [
      "h = max(depth[10:20])\n",
      "\n",
      "R = dist[19] - dist[10]\n",
      "Rtrop = Rd(lat0, h) / 1e3\n",
      "Rclim = Rdi(lat0, N0) / 1e3\n",
      "\n",
      "print(\"R:   %i\\nRdi: %i\\nRd: %i\" % (R, Rclim, Rtrop))"
     ],
     "language": "python",
     "metadata": {},
     "outputs": [],
     "prompt_number": null
    },
    {
     "cell_type": "code",
     "collapsed": false,
     "input": [
      "fig, ax = plt.subplots(figsize=(3, 4))\n",
      "ax.plot(N.sum(axis=1), p_mid[..., 0])\n",
      "ax.invert_yaxis()"
     ],
     "language": "python",
     "metadata": {},
     "outputs": [],
     "prompt_number": null
    },
    {
     "cell_type": "code",
     "collapsed": false,
     "input": [],
     "language": "python",
     "metadata": {},
     "outputs": []
    }
   ],
   "metadata": {}
  }
 ]
}