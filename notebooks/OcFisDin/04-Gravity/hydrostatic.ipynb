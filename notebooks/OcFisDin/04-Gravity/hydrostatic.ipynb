{
 "metadata": {
  "name": "",
  "signature": "sha256:fab4f5e85cc1e4b680178558b26cbf9aad13d86d98f4bfa3c31584dedc85079e"
 },
 "nbformat": 3,
 "nbformat_minor": 0,
 "worksheets": [
  {
   "cells": [
    {
     "cell_type": "code",
     "collapsed": false,
     "input": [
      "import numpy as np\n",
      "import matplotlib.pyplot as plt\n",
      "\n",
      "from sympy.abc import rho\n",
      "from sympy.interactive import printing\n",
      "from sympy import Eq, Derivative, Function\n",
      "from sympy import symbols, integrate, lambdify, dsolve\n",
      "\n",
      "printing.init_printing()"
     ],
     "language": "python",
     "metadata": {},
     "outputs": []
    },
    {
     "cell_type": "code",
     "collapsed": false,
     "input": [
      "t, z, g = symbols('t z g', nonzero=True, constant=True)\n",
      "w = Function('w')(t)\n",
      "p = Function('p')"
     ],
     "language": "python",
     "metadata": {},
     "outputs": []
    },
    {
     "cell_type": "code",
     "collapsed": false,
     "input": [
      "dwdt = Eq(Derivative(w, t), -1/rho*Derivative(p(z), z) - g)\n",
      "dwdt"
     ],
     "language": "python",
     "metadata": {},
     "outputs": []
    },
    {
     "cell_type": "code",
     "collapsed": false,
     "input": [
      "dwdt = dwdt.subs(w, 0).doit()"
     ],
     "language": "python",
     "metadata": {},
     "outputs": []
    },
    {
     "cell_type": "code",
     "collapsed": false,
     "input": [
      "P = integrate(dwdt, (z, -z, 0))\n",
      "P"
     ],
     "language": "python",
     "metadata": {},
     "outputs": []
    },
    {
     "cell_type": "code",
     "collapsed": false,
     "input": [
      "P = P.subs(p(0), 0)\n",
      "P"
     ],
     "language": "python",
     "metadata": {},
     "outputs": []
    },
    {
     "cell_type": "markdown",
     "metadata": {},
     "source": [
      "Re-arranjando temos:"
     ]
    },
    {
     "cell_type": "code",
     "collapsed": false,
     "input": [
      "P = Eq(p(-z), rho*g*z)\n",
      "P"
     ],
     "language": "python",
     "metadata": {},
     "outputs": []
    },
    {
     "cell_type": "code",
     "collapsed": false,
     "input": [
      "depth = -np.linspace(0, 11e3, 100)\n",
      "subs = [(g, -9.8), (rho, 1023)]\n",
      "\n",
      "func = P.subs(subs)\n",
      "func = lambdify(z, func.rhs, \"numpy\")\n",
      "pressure = func(depth)"
     ],
     "language": "python",
     "metadata": {},
     "outputs": []
    },
    {
     "cell_type": "code",
     "collapsed": false,
     "input": [
      "fig, ax = plt.subplots(figsize=(4, 4))\n",
      "ax.grid(True)\n",
      "ax.plot(pressure, depth/1e3)\n",
      "ax.set_xlabel(r'Press\u00e3o [Pa ou N m$^{-2}$]')\n",
      "ax.set_ylabel(r'Profundidade [km]')"
     ],
     "language": "python",
     "metadata": {},
     "outputs": []
    },
    {
     "cell_type": "markdown",
     "metadata": {},
     "source": [
      "Qual seria a for\u00e7a exercida em 1 m$^2$ no fundo das fossas das Marianas?"
     ]
    }
   ],
   "metadata": {}
  }
 ]
}