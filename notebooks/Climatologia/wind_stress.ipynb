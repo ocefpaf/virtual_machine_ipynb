{
 "metadata": {
  "name": "",
  "signature": "sha256:18e06eee97079582052f44e020a78ce1759921df32216ba3edce7d752dc0fc32"
 },
 "nbformat": 3,
 "nbformat_minor": 0,
 "worksheets": [
  {
   "cells": [
    {
     "cell_type": "markdown",
     "metadata": {},
     "source": [
      "### Tens\u00e3o de Cizalhamento do vento -- climatol\u00f3gia global de [*Hellerman and Rosenstein*](http://journals.ametsoc.org/doi/abs/10.1175/1520-0485%281983%29013%3C1093%3ANMWSOT%3E2.0.CO%3B2)\n",
      "\n",
      "obs: 35 milh\u00f5es de observa\u00e7\u00f5es 1870-1976"
     ]
    },
    {
     "cell_type": "code",
     "collapsed": false,
     "input": [
      "import numpy as np\n",
      "import matplotlib.pyplot as plt\n",
      "\n",
      "from netCDF4 import Dataset\n",
      "from mpl_toolkits.basemap import Basemap\n",
      "\n",
      "def make_basemap(projection='robin', figsize=(10, 5), resolution='c'):\n",
      "    fig, ax = plt.subplots(figsize=figsize)\n",
      "    m = Basemap(projection=projection, resolution=resolution,\n",
      "                lon_0=0, ax=ax)\n",
      "    m.drawcoastlines()\n",
      "    m.fillcontinents(color='0.95')\n",
      "    parallels = np.arange(-60, 90, 30.)\n",
      "    meridians = np.arange(-360, 360, 60.)\n",
      "    m.drawparallels(parallels, labels=[1, 0, 0, 0])\n",
      "    m.drawmeridians(meridians, labels=[0, 0, 1, 0])\n",
      "    return fig, m"
     ],
     "language": "python",
     "metadata": {},
     "outputs": []
    },
    {
     "cell_type": "code",
     "collapsed": false,
     "input": [
      "# nc3tonc4 -o --complevel=9 \"http://iridl.ldeo.columbia.edu/SOURCES/.HELLERMAN/dods\" winds_hellermanAndRosenstein.nc\n",
      "filename = '../../data/winds_hellermanAndRosenstein.nc'\n",
      "\n",
      "if os.path.isfile(filename):\n",
      "    nc = Dataset(filename)\n",
      "else:\n",
      "    nc = Dataset(\"http://iridl.ldeo.columbia.edu/SOURCES/.HELLERMAN/dods\")\n",
      "    \n",
      "lon = nc.variables['X'][:]\n",
      "lat = nc.variables['Y'][:]\n",
      "time = nc.variables['T'][:]\n",
      "taux = nc.variables['taux'][:].mean(axis=0) / 10\n",
      "tauy = nc.variables['tauy'][:].mean(axis=0) / 10\n",
      "lon, lat = np.meshgrid(lon, lat)\n",
      "tau = np.sqrt(taux**2 + tauy**2)"
     ],
     "language": "python",
     "metadata": {},
     "outputs": []
    },
    {
     "cell_type": "code",
     "collapsed": false,
     "input": [
      "cut = slice(0, -1, 4), slice(0, -1, 4)\n",
      "\n",
      "fig, m = make_basemap(projection='robin', figsize=(14, 8), resolution='c')\n",
      "cs = m.pcolormesh(lon, lat, tau, cmap=plt.cm.rainbow, latlon=True)\n",
      "fig.colorbar(cs, extend='both', orientation='horizontal', shrink=0.65, pad=0.05)\n",
      "Q = m.quiver(lon[cut], lat[cut], taux[cut], tauy[cut], latlon=True)\n",
      "qk = m.ax.quiverkey(Q, 0.05, 0.05, 0.1, r'1 N m$^{-2}$', labelpos='N')"
     ],
     "language": "python",
     "metadata": {},
     "outputs": []
    }
   ],
   "metadata": {}
  }
 ]
}