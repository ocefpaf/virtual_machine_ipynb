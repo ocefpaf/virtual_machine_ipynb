{
 "metadata": {
  "name": "",
  "signature": "sha256:269e9e6ea722713bf548b21dca2c2bbb347e95f93ce1fb5c03a37ced1573d36e"
 },
 "nbformat": 3,
 "nbformat_minor": 0,
 "worksheets": [
  {
   "cells": [
    {
     "cell_type": "markdown",
     "metadata": {},
     "source": [
      "### Ventos \"quase-sin\u00f3ticos\" globais -- [Quickscat](http://images.remss.com/qscat/scatterometer_data_daily.html?&rgn=global&size=small&year=2009&month=10&day=31&pass=m&keep=111)\n",
      "\n",
      "obs: Dados de sat\u00e9lites quase-sin\u00f3ticos"
     ]
    },
    {
     "cell_type": "code",
     "collapsed": false,
     "input": [
      "import numpy as np\n",
      "import numpy.ma as ma\n",
      "import matplotlib.pyplot as plt\n",
      "from mpl_toolkits.basemap import Basemap\n",
      "from quickscat import get_uv, QuikScatDaily\n",
      "\n",
      "\n",
      "def make_basemap(projection='robin', figsize=(10, 5), resolution='c'):\n",
      "    fig, ax = plt.subplots(figsize=figsize)\n",
      "    m = Basemap(projection=projection, resolution=resolution,\n",
      "                lon_0=0, ax=ax)\n",
      "    m.drawcoastlines()\n",
      "    m.fillcontinents(color='0.95')\n",
      "    parallels = np.arange(-60, 90, 30.)\n",
      "    meridians = np.arange(-360, 360, 60.)\n",
      "    m.drawparallels(parallels, labels=[1, 0, 0, 0])\n",
      "    m.drawmeridians(meridians, labels=[0, 0, 1, 0])\n",
      "    return fig, m"
     ],
     "language": "python",
     "metadata": {},
     "outputs": []
    },
    {
     "cell_type": "code",
     "collapsed": false,
     "input": [
      "qscat = QuikScatDaily('../../data/qscat_20091031v4.gz')"
     ],
     "language": "python",
     "metadata": {},
     "outputs": []
    },
    {
     "cell_type": "code",
     "collapsed": false,
     "input": [
      "winddir = ma.masked_equal(qscat.variables['winddir'], -999.)\n",
      "windspd = ma.masked_equal(qscat.variables['windspd'], -999.)\n",
      "lon = qscat.variables['longitude']\n",
      "lat = qscat.variables['latitude']\n",
      "lon, lat = np.meshgrid(lon, lat)\n",
      "\n",
      "u, v = get_uv(windspd, winddir)\n",
      "bad = np.where(windspd < 0)\n",
      "u[bad] = 0.\n",
      "v[bad] = 0.\n",
      "\n",
      "windspd = windspd[0, ...]\n",
      "u = u[1, ...]\n",
      "v = v[1, ...]"
     ],
     "language": "python",
     "metadata": {},
     "outputs": []
    },
    {
     "cell_type": "code",
     "collapsed": false,
     "input": [
      "cut = slice(0, -1, 15), slice(0, -1, 15)\n",
      "\n",
      "fig, m = make_basemap(projection='robin', figsize=(14, 8), resolution='c')\n",
      "cs = m.pcolormesh(lon, lat, windspd, cmap=plt.cm.rainbow, latlon=True)\n",
      "fig.colorbar(cs, extend='both', orientation='horizontal', shrink=0.65, pad=0.05)\n",
      "Q = m.quiver(lon[cut], lat[cut], u[cut], v[cut], latlon=True)\n",
      "qk = m.ax.quiverkey(Q, 0.05, 0.05, 0.1, r'1 m s$^{-1}$', labelpos='N')"
     ],
     "language": "python",
     "metadata": {},
     "outputs": []
    }
   ],
   "metadata": {}
  }
 ]
}