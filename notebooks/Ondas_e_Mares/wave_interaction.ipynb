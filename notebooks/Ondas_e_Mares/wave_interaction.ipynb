{
 "metadata": {
  "name": "",
  "signature": "sha256:b90705c1885326ac2b340971e0cf2c1da3bca6de3122fa149dd4e177a82ccbf7"
 },
 "nbformat": 3,
 "nbformat_minor": 0,
 "worksheets": [
  {
   "cells": [
    {
     "cell_type": "code",
     "collapsed": false,
     "input": [
      "import numpy as np\n",
      "\n",
      "twopi = 2.0 * np.pi\n",
      "x = 0.0\n",
      "No = 10\n",
      "L = 200\n",
      "K = 2 * np.pi / L\n",
      "H = 10.\n",
      "g = 9.8\n",
      "\n",
      "w = np.sqrt(g * K ** 2 * H)  # FIXME!\n",
      "T = 2 * np.pi / w\n",
      "t = twopi * np.linspace(0, T, 100)"
     ],
     "language": "python",
     "metadata": {},
     "outputs": [],
     "prompt_number": null
    },
    {
     "cell_type": "markdown",
     "metadata": {},
     "source": [
      "* Que tipo de onde seria essa?  Lembre-se sempre de checar h/L!"
     ]
    },
    {
     "cell_type": "code",
     "collapsed": false,
     "input": [
      "HoL = H/L\n",
      "HoL"
     ],
     "language": "python",
     "metadata": {},
     "outputs": [],
     "prompt_number": null
    },
    {
     "cell_type": "markdown",
     "metadata": {},
     "source": [
      "Using 10% of difference in $\\delta k$ and $\\delta \\omega$.\n",
      "\n",
      "* Play with dk and dw and report the differeces you see."
     ]
    },
    {
     "cell_type": "code",
     "collapsed": false,
     "input": [
      "dk = 0.1 * K\n",
      "dw = 0.1 * w"
     ],
     "language": "python",
     "metadata": {},
     "outputs": [],
     "prompt_number": null
    },
    {
     "cell_type": "markdown",
     "metadata": {},
     "source": [
      "Using the equations from our notes:\n",
      "\n",
      "$\\eta_1 = \\eta_o \\cos[(K + \\delta k)x - (\\omega + \\delta\\omega)t]$\n",
      "\n",
      "$\\eta_2 = \\eta_o \\cos[(K - \\delta k)x - (\\omega - \\delta\\omega)t]$"
     ]
    },
    {
     "cell_type": "code",
     "collapsed": false,
     "input": [
      "eta_1 = No * np.cos((K + dk) * x - (w + dw) * t)\n",
      "eta_2 = No * np.cos((K - dk) * x - (w - dw) * t)"
     ],
     "language": "python",
     "metadata": {},
     "outputs": [],
     "prompt_number": null
    },
    {
     "cell_type": "code",
     "collapsed": false,
     "input": [
      "import matplotlib.pyplot as plt\n",
      "\n",
      "fig, (ax0, ax1) = plt.subplots(nrows=2, ncols=1, figsize=(8, 4), sharex=True)\n",
      "ax0.plot(t, eta_1, 'g', label=r'\\eta_1')\n",
      "ax0.plot(t, eta_2, 'b', label=r'\\eta_2')\n",
      "_ = ax1.plot(t, eta_1 + eta_2, 'k', label=r'\\eta_1 + \\eta_2')"
     ],
     "language": "python",
     "metadata": {},
     "outputs": [],
     "prompt_number": null
    }
   ],
   "metadata": {}
  }
 ]
}