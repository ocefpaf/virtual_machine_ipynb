{
 "metadata": {
  "name": ""
 },
 "nbformat": 3,
 "nbformat_minor": 0,
 "worksheets": [
  {
   "cells": [
    {
     "cell_type": "markdown",
     "metadata": {},
     "source": [
      "We will use elevation data from the [GLOSS Station 194](https://www.bodc.ac.uk/data/information_and_inventories/gloss_handbook/stations/194/), loading it in a pandas DataFrame to make our job easier."
     ]
    },
    {
     "cell_type": "code",
     "collapsed": false,
     "input": [
      "from datetime import datetime\n",
      "from pandas import read_table, DataFrame\n",
      "\n",
      "def date_parser(year, day, month, hour):\n",
      "    year, day, month, hour = map(int, (year, day, month, float(hour)))\n",
      "    return datetime(year, day, month, hour)\n",
      "\n",
      "names = ['secs', 'year', 'month', 'day', 'hour', 'elev', 'flag']\n",
      "\n",
      "obs = read_table('../../data/uba1998.dat', names=names, skipinitialspace=True, delim_whitespace=True,\n",
      "                 index_col='datetime', usecols=range(1, 8), sep='[][\\'\" ]+',\n",
      "                 parse_dates={'datetime': ['year', 'month', 'day','hour']}, date_parser=date_parser)\n",
      "obs.head(12)"
     ],
     "language": "python",
     "metadata": {},
     "outputs": [],
     "prompt_number": null
    },
    {
     "cell_type": "code",
     "collapsed": false,
     "input": [
      "import numpy as np\n",
      "import matplotlib.pyplot as plt\n",
      "\n",
      "bad = obs['flag'] == 2\n",
      "suspected = obs['flag'] == 1\n",
      "\n",
      "fig, ax = plt.subplots(figsize=(14, 4))\n",
      "ax.plot(obs.index, obs['elev'], alpha=0.5)\n",
      "ax.plot(obs.index[bad], obs['elev'][bad], 'ro', label='bad')\n",
      "ax.plot(obs.index[suspected], obs['elev'][suspected], 'go', label='suspected')\n",
      "ax.legend(numpoints=1, loc='upper right')\n",
      "\n",
      "# Remove the mean, and interpolate the bad data points.\n",
      "obs[bad] = np.NaN\n",
      "obs[suspected] = np.NaN\n",
      "obs['anomaly'] = obs['elev'] - obs['elev'].mean()\n",
      "obs['anomaly'] = obs['anomaly'].interpolate()  # Interpolate gaps.\n",
      "\n",
      "ax = obs['anomaly'].plot(figsize=(14, 4), alpha=0.5)\n",
      "ax.set_xlabel('')\n",
      "_ = ax.set_ylabel(u'Height [m]')"
     ],
     "language": "python",
     "metadata": {},
     "outputs": [],
     "prompt_number": null
    },
    {
     "cell_type": "code",
     "collapsed": false,
     "input": [
      "obs['elev'].describe()"
     ],
     "language": "python",
     "metadata": {},
     "outputs": [],
     "prompt_number": null
    },
    {
     "cell_type": "code",
     "collapsed": false,
     "input": [
      "elev = obs['anomaly'].values"
     ],
     "language": "python",
     "metadata": {},
     "outputs": [],
     "prompt_number": null
    },
    {
     "cell_type": "code",
     "collapsed": false,
     "input": [
      "%load_ext octavemagic"
     ],
     "language": "python",
     "metadata": {},
     "outputs": [],
     "prompt_number": null
    },
    {
     "cell_type": "code",
     "collapsed": false,
     "input": [
      "%%octave -i elev -o tidestruc -o pout\n",
      "\n",
      "pkg load all\n",
      "addpath(genpath('../../m_files'))\n",
      "\n",
      "[tidestruc, pout] = t_tide(elev, 'interval', 1, 'latitude', -25, 'starttime', [1998, 1, 1, 0]);"
     ],
     "language": "python",
     "metadata": {},
     "outputs": [],
     "prompt_number": null
    },
    {
     "cell_type": "code",
     "collapsed": false,
     "input": [
      "fig, (ax0, ax1, ax2) = plt.subplots(nrows=3, sharey=True, sharex=True, figsize=(14, 6))\n",
      "\n",
      "ax0.plot(obs.index, obs['anomaly'], label=u'Observations')\n",
      "ax0.legend(numpoints=1, loc='lower right')\n",
      "\n",
      "ax1.plot(obs.index, pout.squeeze(), alpha=0.5, label=u'Prediction')\n",
      "ax1.legend(numpoints=1, loc='lower right')\n",
      "\n",
      "ax2.plot(obs.index, obs['anomaly']-pout.squeeze(), alpha=0.5, label=u'Residue')\n",
      "_ = ax2.legend(numpoints=1, loc='lower right')"
     ],
     "language": "python",
     "metadata": {},
     "outputs": [],
     "prompt_number": null
    },
    {
     "cell_type": "code",
     "collapsed": false,
     "input": [
      "(tidestruc['tidecon'][16, 0] + tidestruc['tidecon'][10, 0]) / (tidestruc['tidecon'][29, 0] + tidestruc['tidecon'][33, 0])"
     ],
     "language": "python",
     "metadata": {},
     "outputs": [],
     "prompt_number": null
    },
    {
     "cell_type": "code",
     "collapsed": false,
     "input": [
      "tidestruc['name'][16], tidestruc['name'][10], tidestruc['name'][29], tidestruc['name'][33]"
     ],
     "language": "python",
     "metadata": {},
     "outputs": [],
     "prompt_number": null
    }
   ],
   "metadata": {}
  }
 ]
}