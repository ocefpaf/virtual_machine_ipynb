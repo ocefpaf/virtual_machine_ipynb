{
 "metadata": {
  "name": ""
 },
 "nbformat": 3,
 "nbformat_minor": 0,
 "worksheets": [
  {
   "cells": [
    {
     "cell_type": "markdown",
     "metadata": {},
     "source": [
      "https://www.bodc.ac.uk/data/information_and_inventories/gloss_handbook/stations/194/"
     ]
    },
    {
     "cell_type": "code",
     "collapsed": false,
     "input": [
      "import numpy as np\n",
      "import matplotlib.pyplot as plt\n",
      "\n",
      "from datetime import datetime\n",
      "from pandas import read_table, DataFrame\n",
      "\n",
      "def date_parser(year, day, month, hour):\n",
      "    year, day, month, hour = map(int, (year, day, month, float(hour)))\n",
      "    return datetime(year, day, month, hour)\n",
      "\n",
      "def tidestruc2df(tidestruc):\n",
      "    data = tidestruc['freq'], tidestruc['C'], tidestruc['pha'], tidestruc['corr']\n",
      "    freq, amp, phase, corr = map(np.squeeze, (data))\n",
      "    tideinfo = DataFrame(np.c_[1. / freq, freq, amp, phase],\n",
      "                         columns=['period', 'freq', 'amp', 'phase'],\n",
      "                         index=tidestruc['name']).sort(columns=['amp'], ascending=False)\n",
      "    # TODO: Check when  input is imaginary:\n",
      "    tidecon = DataFrame(tidestruc['tidecon'], columns=['fmaj', 'fmin', 'pha', 'finc'],\n",
      "                        index=tidestruc['name'])\n",
      "    print('Correlation was: %s' % corr)\n",
      "    return tideinfo"
     ],
     "language": "python",
     "metadata": {},
     "outputs": [],
     "prompt_number": null
    },
    {
     "cell_type": "code",
     "collapsed": false,
     "input": [
      "%%bash\n",
      "cat ../../data/GLOSS_Station_194.txt"
     ],
     "language": "python",
     "metadata": {},
     "outputs": [],
     "prompt_number": null
    },
    {
     "cell_type": "code",
     "collapsed": false,
     "input": [
      "names = ['secs', 'year', 'month', 'day', 'hour', 'elev', 'flag']\n",
      "\n",
      "obs = read_table('../../data/can1998.dat', names=names, skipinitialspace=True, delim_whitespace=True,\n",
      "                 index_col='datetime', usecols=range(1, 8), sep='[][\\'\" ]+',\n",
      "                 parse_dates={'datetime': ['year', 'month', 'day','hour']}, date_parser=date_parser)\n",
      "obs.head(12)"
     ],
     "language": "python",
     "metadata": {},
     "outputs": [],
     "prompt_number": null
    },
    {
     "cell_type": "code",
     "collapsed": false,
     "input": [
      "bad = obs['flag'] == 2\n",
      "corrected = obs['flag'] == 1\n",
      "\n",
      "fig, ax = plt.subplots(figsize=(14, 4))\n",
      "ax.plot(obs.index, obs['elev'], alpha=0.5)\n",
      "ax.plot(obs.index[bad], obs['elev'][bad], 'ro', label='Interpolados')\n",
      "ax.plot(obs.index[corrected], obs['elev'][corrected], 'go', label='Corrigdos')\n",
      "ax.legend(numpoints=1, loc='upper right')\n",
      "ax.grid()"
     ],
     "language": "python",
     "metadata": {},
     "outputs": [],
     "prompt_number": null
    },
    {
     "cell_type": "code",
     "collapsed": false,
     "input": [
      "mask = obs['flag'] == 2\n",
      "obs[mask] = np.NaN"
     ],
     "language": "python",
     "metadata": {},
     "outputs": [],
     "prompt_number": null
    },
    {
     "cell_type": "code",
     "collapsed": false,
     "input": [
      "obs['elev'].describe()"
     ],
     "language": "python",
     "metadata": {},
     "outputs": [],
     "prompt_number": null
    },
    {
     "cell_type": "code",
     "collapsed": false,
     "input": [
      "obs['anomaly'] = obs['elev'] - obs['elev'].mean()\n",
      "obs['anomaly'] = obs['anomaly'].interpolate()  # Interpolate gaps.\n",
      "\n",
      "ax = obs['anomaly'].plot(figsize=(14, 4), alpha=0.5)\n",
      "ax.set_xlabel('')\n",
      "_ = ax.set_ylabel(u'Eleva\u00e7\u00e3o [m]')"
     ],
     "language": "python",
     "metadata": {},
     "outputs": [],
     "prompt_number": null
    },
    {
     "cell_type": "code",
     "collapsed": false,
     "input": [
      "%load_ext octavemagic"
     ],
     "language": "python",
     "metadata": {},
     "outputs": [],
     "prompt_number": null
    },
    {
     "cell_type": "code",
     "collapsed": false,
     "input": [
      "anomaly = obs['anomaly'].values\n",
      "dt = obs.index[-1] - obs.index[0]\n",
      "todal_hours = dt.total_seconds() / 60. / 60.\n",
      "hours = np.linspace(0, todal_hours, len(obs))"
     ],
     "language": "python",
     "metadata": {},
     "outputs": [],
     "prompt_number": null
    },
    {
     "cell_type": "code",
     "collapsed": false,
     "input": [
      "%%octave -i anomaly -i hours -o tidestruc -o xout\n",
      "\n",
      "addpath(genpath('../../m_files'))\n",
      "[tidestruc, xout] = lsf(hours, anomaly, ['M2';'S2';'N2';'L2';'K2';'O1';'K1';'Q1';'P1']);"
     ],
     "language": "python",
     "metadata": {},
     "outputs": [],
     "prompt_number": null
    },
    {
     "cell_type": "code",
     "collapsed": false,
     "input": [
      "tides = tidestruc2df(tidestruc)\n",
      "tides"
     ],
     "language": "python",
     "metadata": {},
     "outputs": [],
     "prompt_number": null
    },
    {
     "cell_type": "code",
     "collapsed": false,
     "input": [
      "F = (tides['amp']['K1'] + tides['amp']['O1']) / (tides['amp']['M2'] + tides['amp']['S2'])\n",
      "F"
     ],
     "language": "python",
     "metadata": {},
     "outputs": [],
     "prompt_number": null
    },
    {
     "cell_type": "code",
     "collapsed": false,
     "input": [
      "fig, (ax0, ax1, ax2) = plt.subplots(nrows=3, sharey=True, sharex=True, figsize=(14, 6))\n",
      "\n",
      "ax0.plot(obs.index, obs['anomaly'], label=u'Observa\u00e7\u00f5es')\n",
      "ax0.legend(numpoints=1, loc='lower right')\n",
      "ax0.grid()\n",
      "\n",
      "ax1.plot(obs.index, xout.squeeze(), alpha=0.5, label=u'Previs\u00e3o')\n",
      "ax1.legend(numpoints=1, loc='lower right')\n",
      "ax1.grid()\n",
      "\n",
      "ax2.plot(obs.index, obs['anomaly']-xout.squeeze(), alpha=0.5, label=u'Res\u00edduo')\n",
      "ax2.legend(numpoints=1, loc='lower right')\n",
      "ax2.grid()"
     ],
     "language": "python",
     "metadata": {},
     "outputs": [],
     "prompt_number": null
    },
    {
     "cell_type": "markdown",
     "metadata": {},
     "source": [
      "R. Pawlowicz, B. Beardsley, and S. Lentz, \"Classical tidal harmonic analysis including error estimates in MATLAB using T_TIDE\", Computers and Geosciences 28 (2002), 929-937."
     ]
    }
   ],
   "metadata": {}
  }
 ]
}