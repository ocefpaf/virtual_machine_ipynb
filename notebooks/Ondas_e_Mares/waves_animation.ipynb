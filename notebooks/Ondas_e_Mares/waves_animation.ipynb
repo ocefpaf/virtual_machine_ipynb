{
 "metadata": {
  "name": ""
 },
 "nbformat": 3,
 "nbformat_minor": 0,
 "worksheets": [
  {
   "cells": [
    {
     "cell_type": "markdown",
     "metadata": {},
     "source": [
      "### Ondas de gravidade"
     ]
    },
    {
     "cell_type": "code",
     "collapsed": false,
     "input": [
      "import numpy as np\n",
      "import matplotlib.pyplot as plt\n",
      "from matplotlib import animation\n",
      "from JSAnimation import IPython_display"
     ],
     "language": "python",
     "metadata": {},
     "outputs": [],
     "prompt_number": null
    },
    {
     "cell_type": "code",
     "collapsed": false,
     "input": [
      "g = 9.8  # Gravidade\n",
      "denw = 1025.0  # Densidade da \u00e1gua do mar.\n",
      "sig = 7.3e-2  # Tens\u00e3o superficial [N/m].\n",
      "a = 1.0  # Amplitude da onda.\n",
      "\n",
      "#L = float(raw_input('Entre o comprimento de onda em metros.  '))\n",
      "#H = float(raw_input(r'Entre a profundidade da coluna d'\u00e1gua (10--5000 m) ')\n",
      "L, H = 100.0, 50.0\n",
      "\n",
      "# Numero de onda.\n",
      "k = 2 * np.pi / L\n",
      "\n",
      "# Frequ\u00eancia angular.\n",
      "omega = np.sqrt((g * k + (sig / denw) * (k**3)) * np.tanh(k * H))\n",
      "\n",
      "# Per\u00edodo.\n",
      "T = 2 * np.pi / omega\n",
      "\n",
      "# Velocidade de fase.\n",
      "c = np.sqrt((g / k + (sig / denw) * k) * np.tanh(k * H))\n",
      "\n",
      "x, z = np.meshgrid(np.arange(0, 160, 10), np.arange(0, -80, -10),)\n",
      "u, w = np.zeros_like(x), np.zeros_like(z)\n",
      "\n",
      "\n",
      "def compute_vel(ph):\n",
      "    u = a * omega * (np.cosh(k * (z+H)) / np.sinh(k*H)) * np.cos(k * x - ph)\n",
      "    w = a * omega * (np.sinh(k * (z+H)) / np.sinh(k*H)) * np.sin(k * x - ph)\n",
      "    mask = -z > H\n",
      "    u[mask] = 0.0\n",
      "    w[mask] = 0.0\n",
      "    return u, w"
     ],
     "language": "python",
     "metadata": {},
     "outputs": [],
     "prompt_number": null
    },
    {
     "cell_type": "code",
     "collapsed": false,
     "input": [
      "def basic_animation(frames=91, interval=30, dt=0.3):\n",
      "    fig = plt.figure(figsize=(8, 6))\n",
      "    ax = plt.axes(xlim=(0, 150), ylim=(-70, 10))\n",
      "\n",
      "    # Animated line:\n",
      "    quiver = ax.quiver(x, z, u, w, units='inches', scale=2)\n",
      "    ax.quiverkey(quiver, 120, -60, 1,\n",
      "                 label=r'1 m s$^{-1}$',\n",
      "                 coordinates='data')\n",
      "    line, = ax.plot([], [], 'b')\n",
      "\n",
      "    # Non animated lines:\n",
      "    ax.plot([0, 150], [0, 0], 'k:')\n",
      "    ax.set_ylabel('Profundidade [m]')\n",
      "    ax.set_xlabel(u'Dist\u00e2ncia [m]')\n",
      "    ax.set_title(u'Velocidade do fluido e deslocamento da superf\u00edcie livre')\n",
      "    text = (r'$\\lambda$ = %s m;  h = %s m;  kh = %2.3f;  h/L = %s' %\n",
      "            (L, H, k * H, H/L))\n",
      "    ax.text(10, -65, text)\n",
      "    time_step = ax.text(10, -58, '')\n",
      "    line.set_data([], [])\n",
      "\n",
      "    def init():\n",
      "        return line, quiver, time_step\n",
      "\n",
      "    def animate(i):\n",
      "        time = i * dt\n",
      "        pht = omega * time\n",
      "        eta = a * np.cos(x[0] * k - pht)  # Eleva\u00e7\u00e3o da superf\u00edcie.\n",
      "        u, w = compute_vel(pht)\n",
      "        quiver.set_UVC(u, w)\n",
      "        line.set_data(x[0], 5 * eta)\n",
      "        time_step.set_text('Tempo = %s s' % time)\n",
      "        return line, quiver, time_step\n",
      "\n",
      "    return animation.FuncAnimation(fig, animate, init_func=init,\n",
      "                                   frames=frames, interval=interval)"
     ],
     "language": "python",
     "metadata": {},
     "outputs": [],
     "prompt_number": null
    },
    {
     "cell_type": "code",
     "collapsed": false,
     "input": [
      "dt = 0.3\n",
      "basic_animation(dt=dt)"
     ],
     "language": "python",
     "metadata": {},
     "outputs": [],
     "prompt_number": null
    }
   ],
   "metadata": {}
  }
 ]
}