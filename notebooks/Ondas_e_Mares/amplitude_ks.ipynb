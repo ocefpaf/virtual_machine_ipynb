{
 "metadata": {
  "name": "",
  "signature": "sha256:a452ee788ab11a170f412c3a5621d42164f25248cb49b1ef2371ac65a5a8d0a1"
 },
 "nbformat": 3,
 "nbformat_minor": 0,
 "worksheets": [
  {
   "cells": [
    {
     "cell_type": "markdown",
     "metadata": {},
     "source": [
      "# homework4_1"
     ]
    },
    {
     "cell_type": "code",
     "collapsed": false,
     "input": [
      "import numpy as np\n",
      "import matplotlib.pyplot as plt\n",
      "from oceans.sw_extras.waves import Waves"
     ],
     "language": "python",
     "metadata": {},
     "outputs": []
    },
    {
     "cell_type": "code",
     "collapsed": false,
     "input": [
      "T = 20  # Period in seconds.\n",
      "h = np.linspace(0.1, 450, 100)  # Depth vector from 0 to 450 meters.\n",
      "\n",
      "w = Waves(T, h)  # Compute the wave caracteristics.\n",
      "a = w.Ks * 2.33  # Compute amplidute with a shoaling coefficient \"Ks.\""
     ],
     "language": "python",
     "metadata": {},
     "outputs": []
    },
    {
     "cell_type": "code",
     "collapsed": false,
     "input": [
      "fig, ax = plt.subplots()\n",
      "ax.plot(h, a)\n",
      "ax.set_xlabel(r'$h$ [m]')\n",
      "ax.set_ylabel(r'$a$ [cm]')\n",
      "_ = ax.set_title(r'$a$ as a function of $h$')"
     ],
     "language": "python",
     "metadata": {},
     "outputs": []
    }
   ],
   "metadata": {}
  }
 ]
}