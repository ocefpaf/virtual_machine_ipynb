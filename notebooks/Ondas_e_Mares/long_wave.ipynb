{
 "metadata": {
  "name": "",
  "signature": "sha256:3a14f2a320c3d0ad234145ade329feffb1f423c164644aceb6a9d4236d473c99"
 },
 "nbformat": 3,
 "nbformat_minor": 0,
 "worksheets": [
  {
   "cells": [
    {
     "cell_type": "markdown",
     "metadata": {},
     "source": [
      "Longwave dispersion relationship: $\\omega = k\\sqrt{gh}$"
     ]
    },
    {
     "cell_type": "code",
     "collapsed": false,
     "input": [
      "import numpy as np\n",
      "\n",
      "L = 10500  # Lambda [m].\n",
      "H = 500.  # Water column depth [m].\n",
      "N0 = 10  # Wave amplitude [m].\n",
      "K = 2 * np.pi / L  # Wavenumber [m^{-1}].\n",
      "g = 9.8  # Aceleration of gravity [m s^{-2}]\n",
      "w = np.sqrt(g * K ** 2 * H)  # Longwave dispersion [rad s^{-1}].\n",
      "T = 2 * np.pi / w  # Period [s].\n",
      "\n",
      "t = np.arange(0, 2 * T)  # Two waves.\n",
      "x = 0.0\n",
      "\n",
      "z000, z100, z200, z300, z400, z500 = 0, -100, -200, -300, -400, -500"
     ],
     "language": "python",
     "metadata": {},
     "outputs": [],
     "prompt_number": null
    },
    {
     "cell_type": "code",
     "collapsed": false,
     "input": [
      "HoL = H/L\n",
      "if HoL < 1./20:\n",
      "    print(\"H/L = %s, Longwave!\" % HoL)\n",
      "else:\n",
      "    print(\"H/L = %s, This is not a longwave :(\" % HoL)"
     ],
     "language": "python",
     "metadata": {},
     "outputs": [],
     "prompt_number": null
    },
    {
     "cell_type": "markdown",
     "metadata": {},
     "source": [
      "The code below solve the following equations (Check them out in the course notes!):\n",
      "\n",
      "Free surface displacement: $\\eta = N_o\\cos({kx - \\omega t})$\n",
      "\n",
      "x displacement: $\\chi = -\\frac{\\eta_o}{kH}\\sin({kx - \\omega t})$\n",
      "\n",
      "z displacement: $\\zeta = \\frac{\\eta_o}{H}(z + H)\\cos({kx - \\omega t})$"
     ]
    },
    {
     "cell_type": "code",
     "collapsed": false,
     "input": [
      "X = -(N0 / K * H) * np.sin((K * x) - (w * t))\n",
      "\n",
      "N = N0 * np.cos((K * x) - (w * t))\n",
      "\n",
      "Z000 = ((N0 / H) * (z000 + H)) * np.cos((K * x) - (w * t)) + z000\n",
      "Z100 = ((N0 / H) * (z100 + H)) * np.cos((K * x) - (w * t)) + z100\n",
      "Z200 = ((N0 / H) * (z200 + H)) * np.cos((K * x) - (w * t)) + z200\n",
      "Z300 = ((N0 / H) * (z300 + H)) * np.cos((K * x) - (w * t)) + z300\n",
      "Z400 = ((N0 / H) * (z400 + H)) * np.cos((K * x) - (w * t)) + z400\n",
      "Z500 = ((N0 / H) * (z500 + H)) * np.cos((K * x) - (w * t)) + z500"
     ],
     "language": "python",
     "metadata": {},
     "outputs": [],
     "prompt_number": null
    },
    {
     "cell_type": "code",
     "collapsed": false,
     "input": [
      "import matplotlib.pyplot as plt\n",
      "\n",
      "fig, ax = plt.subplots(figsize=(4, 4))\n",
      "ax.plot(X, Z000, 'k',\n",
      "        X, Z100, 'k',\n",
      "        X, Z200, 'k',\n",
      "        X, Z300, 'k',\n",
      "        X, Z400, 'k',\n",
      "        X, Z500, 'k')\n",
      "ax.set_title(u'Ondas de \u00e1guas rasas (ou ondas longas)')\n",
      "ax.set_xlabel(u'Dist\u00e2ncia [m]')\n",
      "ax.set_ylabel('Profundidade [m]')\n",
      "\n",
      "x = np.linspace(-X.max()*6, X.max()*6, N.size)\n",
      "ax.plot(x, N, 'k:')\n",
      "ax.set_ylim(-520, 90)\n",
      "ax.grid(True)\n",
      "_ = ax.annotate(r'$\\eta$', xy=(x[-20], N[-20]),  xycoords='data',\n",
      "                xytext=(20, 20), textcoords='offset points',\n",
      "                arrowprops=dict(arrowstyle=\"->\", connectionstyle=\"arc3,rad=0.2\"))"
     ],
     "language": "python",
     "metadata": {},
     "outputs": [],
     "prompt_number": null
    }
   ],
   "metadata": {}
  }
 ]
}