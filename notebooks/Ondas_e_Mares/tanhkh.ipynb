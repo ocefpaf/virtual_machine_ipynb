{
 "metadata": {
  "name": "",
  "signature": "sha256:26b1747eb68d142f5aa96f132612eccb8d15243831198fdf7f1fc2b2024e7aeb"
 },
 "nbformat": 3,
 "nbformat_minor": 0,
 "worksheets": [
  {
   "cells": [
    {
     "cell_type": "code",
     "collapsed": false,
     "input": [
      "import numpy as np\n",
      "import matplotlib.pyplot as plt\n",
      "\n",
      "hoL = np.arange(0, 1, 0.001)\n",
      "kh = 2 * np.pi * hoL\n",
      "tanhkh = np.tanh(kh)\n",
      "\n",
      "threshold = 1e-3\n",
      "one = (1 - tanhkh) <= threshold\n",
      "equal = (kh - tanhkh) <= threshold\n",
      "\n",
      "fig, ax = plt.subplots(figsize=(8, 4))\n",
      "ax.plot(hoL, tanhkh, color='#493D26', linewidth='2', label=r\"$\\tanh(kh)$\")\n",
      "ax.plot(hoL[equal], tanhkh[equal], color='#F88017', linewidth='3', label=r\"$\\tanh(kh) \\sim kh$\")\n",
      "ax.plot(hoL[one], tanhkh[one], color='#168EF7', linewidth='3', label=r\"$\\tanh(kh) \\sim 1$\")\n",
      "ax.set_xlabel(r'$\\frac{h}{L}$')\n",
      "ax.set_ylabel(r'$\\tanh(kh)$')\n",
      "ax.axis([0, 1, 0, 1.05])\n",
      "_ = ax.legend(loc='lower right')"
     ],
     "language": "python",
     "metadata": {},
     "outputs": [],
     "prompt_number": null
    }
   ],
   "metadata": {}
  }
 ]
}