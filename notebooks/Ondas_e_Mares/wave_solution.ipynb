{
 "metadata": {
  "name": "",
  "signature": "sha256:ed5c20d3f90f40039dad01b9900f42a35823e3a15dcbdff5f659c43380ddf0a8"
 },
 "nbformat": 3,
 "nbformat_minor": 0,
 "worksheets": [
  {
   "cells": [
    {
     "cell_type": "code",
     "collapsed": false,
     "input": [
      "import numpy as np\n",
      "\n",
      "# Constants.\n",
      "x, y = 0, 0\n",
      "n0 = 0.5\n",
      "g = 9.8\n",
      "rho = 1025\n",
      "K = 0.02\n",
      "l = 0.014\n",
      "k = 0.014\n",
      "w = 0.43\n",
      "H = 100\n",
      "\n",
      "X, t = np.linspace(1, 21, 200), np.linspace(1, 21, 200)"
     ],
     "language": "python",
     "metadata": {},
     "outputs": [],
     "prompt_number": null
    },
    {
     "cell_type": "markdown",
     "metadata": {},
     "source": [
      "Equations:"
     ]
    },
    {
     "cell_type": "code",
     "collapsed": false,
     "input": [
      "N = n0 * np.cos((k * x) + (l * y) - (w * t))\n",
      "P0 = (rho * g * n0) / (np.cosh(K * H)) * np.cosh(K * (0 + H)) * np.cos((k * x) + (l * y)-(w * t))\n",
      "U0 = ((k * g * n0) / w  * (np.cosh(K * H))) * np.cosh(K * (0 + H)) * np.cos((k * x) + (l * y)-(w * t))\n",
      "V0 = ((l * g * n0) / w  * (np.cosh(K * H))) * np.cosh(K * (0 + H)) * np.cos((k * x) + (l * y)-(w * t))\n",
      "W0 = ((k * g * n0) / w  * (np.cosh(K * H))) * np.sinh(K * (0 + H)) * np.sin((k * x) + (l * y)-(w * t))\n",
      "\n",
      "P10 = (rho * g * n0) / (np.cosh(K * H)) * np.cosh(K * (-10 + H)) * np.cos((k * x) + (l * y)-(w * t))\n",
      "U10 = ((k * g * n0) / w  * (np.cosh(K * H))) * np.cosh(K * (-10 + H)) * np.cos((k * x) + (l * y)-(w * t))\n",
      "V10 = ((l * g * n0) / w  * (np.cosh(K * H))) * np.cosh(K * (-10 + H)) * np.cos((k * x) + (l * y)-(w * t))\n",
      "W10 = ((k * g * n0) / w  * (np.cosh(K * H))) * np.sinh(K * (-10 + H)) * np.sin((k * x) + (l * y)-(w * t))\n",
      "\n",
      "P50 = (rho * g * n0) / (np.cosh(K * H)) * np.cosh(K * (-50 + H)) * np.cos((k * x) + (l * y)-(w * t))\n",
      "U50 = ((k * g * n0) / w  * (np.cosh(K * H))) * np.cosh(K * (-50 + H)) * np.cos((k * x) + (l * y)-(w * t))\n",
      "V50 = ((l * g * n0) / w  * (np.cosh(K * H))) * np.cosh(K * (-50 + H)) * np.cos((k * x) + (l * y)-(w * t))\n",
      "W50 = ((k * g * n0) / w  * (np.cosh(K * H))) * np.sinh(K * (-50 + H)) * np.sin((k * x) + (l * y)-(w * t))\n",
      "\n",
      "P100 = (rho * g * n0) / (np.cosh(K * H)) * np.cosh(K * (-100 + H)) * np.cos((k * x) + (l * y)-(w * t))\n",
      "U100 = ((k * g * n0) / w  * (np.cosh(K * H))) * np.cosh(K * (-100 + H)) * np.cos((k * x) + (l * y)-(w * t))\n",
      "V100 = ((l * g * n0) / w  * (np.cosh(K * H))) * np.cosh(K * (-100 + H)) * np.cos((k * x) + (l * y)-(w * t))\n",
      "W100 = ((k * g * n0) / w  * (np.cosh(K * H))) * np.sinh(K * (-100 + H)) * np.sin((k * x) + (l * y)-(w * t))"
     ],
     "language": "python",
     "metadata": {},
     "outputs": [],
     "prompt_number": null
    },
    {
     "cell_type": "code",
     "collapsed": false,
     "input": [
      "import matplotlib.pyplot as plt\n",
      "\n",
      "fig, ax = plt.subplots()\n",
      "ax.plot(N)\n",
      "ax.set_ylabel(r'$\\eta$ [m]')\n",
      "ax.set_xlabel('Time [s]')\n",
      "\n",
      "fig, ax = plt.subplots()\n",
      "ax.plot(X, U0, X, U10, X, U50, X, U100)\n",
      "ax.set_ylabel(r'U [m s$^{-1}$]')\n",
      "ax.set_xlabel('Time [s]')\n",
      "ax.legend(('0 m', '10 m', '50 m', '100 m'))\n",
      "\n",
      "fig, ax = plt.subplots()\n",
      "ax.plot(X, V0, X, V10, X, V50, X, V100)\n",
      "ax.set_ylabel(r'V [m s$^{-1}$]')\n",
      "ax.set_xlabel('Time [s]')\n",
      "ax.legend(('0 m', '10 m', '50 m', '100 m'))\n",
      "\n",
      "fig, ax = plt.subplots()\n",
      "ax.plot(X, W0, X, W10, X, W50, X, W100)\n",
      "ax.set_ylabel(r'W [m s$^{-1}$]')\n",
      "ax.set_xlabel('Time [s]')\n",
      "ax.legend(('0 m', '10 m', '50 m', '100 m'))\n",
      "\n",
      "fig, ax = plt.subplots()\n",
      "ax.plot(X, P0, X, P10, X, P50, X, P100)\n",
      "ax.set_ylabel('Pressure [Pa]')\n",
      "ax.set_xlabel('Time [s]')\n",
      "_ = ax.legend(('0 m', '10 m', '50 m', '100 m'))"
     ],
     "language": "python",
     "metadata": {},
     "outputs": [],
     "prompt_number": null
    }
   ],
   "metadata": {}
  }
 ]
}