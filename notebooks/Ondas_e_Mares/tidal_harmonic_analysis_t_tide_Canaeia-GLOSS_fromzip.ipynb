{
 "metadata": {
  "name": "",
  "signature": "sha256:02d3f1e6ee642376583e7c6c73a026ef187933c694cf075dfe0ca59742316091"
 },
 "nbformat": 3,
 "nbformat_minor": 0,
 "worksheets": [
  {
   "cells": [
    {
     "cell_type": "markdown",
     "metadata": {},
     "source": [
      "We will use elevation data from the [GLOSS Station 194](https://www.bodc.ac.uk/data/information_and_inventories/gloss_handbook/stations/194/), loading it in a pandas Series to make our job easier.  Check the format of the data below."
     ]
    },
    {
     "cell_type": "code",
     "collapsed": false,
     "input": [
      "%%bash\n",
      "more ../../data/gloss_hourly.fmt"
     ],
     "language": "python",
     "metadata": {},
     "outputs": []
    },
    {
     "cell_type": "code",
     "collapsed": false,
     "input": [
      "import os\n",
      "import zipfile\n",
      "import numpy as np\n",
      "import numpy.ma as ma\n",
      "from zipfile import ZipFile\n",
      "from datetime import datetime\n",
      "from pandas import Series, date_range\n",
      "\n",
      "\n",
      "def basename(fname):\n",
      "    return os.path.splitext(os.path.basename(fname))[0]\n",
      "\n",
      "\n",
      "def make_date(data):\n",
      "    date = str(int(data))[:-1]\n",
      "    return datetime.strptime(date, '%Y%m%d')\n",
      "\n",
      "\n",
      "def load_gloss(fname):\n",
      "    data = np.loadtxt(fname, skiprows=1, usecols=range(2, 15))\n",
      "    elev = ma.masked_equal(data[:, 1:].ravel(), 9999)\n",
      "    start = make_date(data[0, 0])\n",
      "    dates = date_range(start, periods=len(elev), freq='H')\n",
      "    return Series(elev, index=dates)"
     ],
     "language": "python",
     "metadata": {},
     "outputs": []
    },
    {
     "cell_type": "code",
     "collapsed": false,
     "input": [
      "series = Series()\n",
      "with ZipFile('../../data/h281a.zip', 'r') as ziped:\n",
      "    for fname in sorted(ziped.namelist()):\n",
      "        if not fname.endswith('/'):  # Skip directories.\n",
      "            if False:\n",
      "                with ziped.open(fname) as f:\n",
      "                    print(f.readline())\n",
      "            name = basename(fname)\n",
      "            series = series.append(load_gloss(ziped.open(fname)))\n",
      "\n",
      "series /= 1e3\n",
      "series.describe()"
     ],
     "language": "python",
     "metadata": {},
     "outputs": []
    },
    {
     "cell_type": "code",
     "collapsed": false,
     "input": [
      "ax = series[::100].plot(figsize=(12, 2))"
     ],
     "language": "python",
     "metadata": {},
     "outputs": []
    },
    {
     "cell_type": "code",
     "collapsed": false,
     "input": [
      "obs = series.ix['1998'] - series.ix['1998'].mean()\n",
      "ax = obs.plot(figsize=(12, 2))\n",
      "obs.describe()\n",
      "elev = obs.values"
     ],
     "language": "python",
     "metadata": {},
     "outputs": []
    },
    {
     "cell_type": "code",
     "collapsed": false,
     "input": [
      "%load_ext oct2py.ipython"
     ],
     "language": "python",
     "metadata": {},
     "outputs": []
    },
    {
     "cell_type": "code",
     "collapsed": false,
     "input": [
      "%%octave -i elev -o tidestruc -o pout\n",
      "\n",
      "pkg load all\n",
      "addpath(genpath('../../m_files/t_tide_v1.3beta'))\n",
      "\n",
      "[tidestruc, pout] = t_tide(elev, 'interval', 1, 'latitude', -25, 'starttime', [1998, 1, 1, 0]);"
     ],
     "language": "python",
     "metadata": {},
     "outputs": []
    },
    {
     "cell_type": "code",
     "collapsed": false,
     "input": [
      "import matplotlib.pyplot as plt\n",
      "\n",
      "fig, (ax0, ax1, ax2) = plt.subplots(nrows=3, sharey=True, sharex=True, figsize=(14, 6))\n",
      "\n",
      "ax0.plot(obs.index, obs, label=u'Observations')\n",
      "ax0.legend(numpoints=1, loc='lower right')\n",
      "\n",
      "ax1.plot(obs.index, pout.squeeze(), alpha=0.5, label=u'Prediction')\n",
      "ax1.legend(numpoints=1, loc='lower right')\n",
      "\n",
      "ax2.plot(obs.index, obs-pout.squeeze(), alpha=0.5, label=u'Residue')\n",
      "_ = ax2.legend(numpoints=1, loc='lower right')"
     ],
     "language": "python",
     "metadata": {},
     "outputs": []
    },
    {
     "cell_type": "code",
     "collapsed": false,
     "input": [
      "(tidestruc['tidecon'][16, 0] + tidestruc['tidecon'][10, 0]) / (tidestruc['tidecon'][29, 0] + tidestruc['tidecon'][33, 0])"
     ],
     "language": "python",
     "metadata": {},
     "outputs": []
    },
    {
     "cell_type": "code",
     "collapsed": false,
     "input": [
      "tidestruc['name'][16], tidestruc['name'][10], tidestruc['name'][29], tidestruc['name'][33]"
     ],
     "language": "python",
     "metadata": {},
     "outputs": []
    }
   ],
   "metadata": {}
  }
 ]
}