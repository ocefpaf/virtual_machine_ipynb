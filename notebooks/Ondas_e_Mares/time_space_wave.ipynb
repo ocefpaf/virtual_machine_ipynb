{
 "metadata": {
  "name": "",
  "signature": "sha256:7ce442882e914a4733b8fd17da570d6edf6b1165baa07ce33641a1ccf376712e"
 },
 "nbformat": 3,
 "nbformat_minor": 0,
 "worksheets": [
  {
   "cells": [
    {
     "cell_type": "markdown",
     "metadata": {},
     "source": [
      "$\\eta = A \\cos(kx - \\omega t + \\phi)$\n",
      "\n",
      "$T = \\frac{1}{f} = \\frac{2\\pi}{\\omega} \\rightarrow \\left[\\text{s} \\right] $\n",
      "\n",
      "$\\text{L ou } \\lambda = \\frac{2\\pi}{k} \\rightarrow \\left[ \\text{m} \\right]$"
     ]
    },
    {
     "cell_type": "code",
     "collapsed": false,
     "input": [
      "import numpy as np\n",
      "import matplotlib.pyplot as plt\n",
      "\n",
      "def adjust_spines(ax,spines):\n",
      "    \"\"\"http://matplotlib.org/examples/pylab_examples/spine_placement_demo.html\"\"\"\n",
      "    for loc, spine in ax.spines.items():\n",
      "        if loc in spines:\n",
      "            spine.set_position(('outward', 10))\n",
      "            spine.set_smart_bounds(True)\n",
      "        else:\n",
      "            spine.set_color('none')\n",
      "\n",
      "    if 'left' in spines:\n",
      "        ax.yaxis.set_ticks_position('left')\n",
      "    else:\n",
      "        ax.yaxis.set_ticks([])\n",
      "    if 'bottom' in spines:\n",
      "        ax.xaxis.set_ticks_position('bottom')\n",
      "    else:\n",
      "        ax.xaxis.set_ticks([])"
     ],
     "language": "python",
     "metadata": {},
     "outputs": [],
     "prompt_number": null
    },
    {
     "cell_type": "code",
     "collapsed": false,
     "input": [
      "twopi = 2 * np.pi\n",
      "\n",
      "n = 2  # Duas ondas.\n",
      "A = 2  # Amplitude = 2 metros.\n",
      "w = twopi / 10  # T = 10 segundos.\n",
      "k = twopi / 200  # lambda = 200 metros.\n",
      "phi = np.deg2rad(270)  # Fase [rad]\n",
      "t = np.arange(0, 10 * n, 0.01)  # Vetor tempo [s]\n",
      "x = np.arange(0, 200 * n)  # Vetor espa\u00e7o [m]\n",
      "\n",
      "y1 = A * np.cos(w * t - k * 0 + phi)  # Um ponto do oceano.\n",
      "y2 = A * np.cos(w * 0 - k * x - phi)  # Uma \"foto\" de um instante."
     ],
     "language": "python",
     "metadata": {},
     "outputs": [],
     "prompt_number": null
    },
    {
     "cell_type": "code",
     "collapsed": false,
     "input": [
      "fig, (ax0, ax1) = plt.subplots(nrows=2, sharey=True, figsize=(6, 4))\n",
      "fig.tight_layout()\n",
      "ax0.set_ylim([-2.1, 2.1])\n",
      "\n",
      "ax0.plot(t, y1, linewidth='2', color='#CC9900')\n",
      "ax0.axhline(color='grey')\n",
      "adjust_spines(ax0, ['left','bottom'])\n",
      "\n",
      "ax1.plot(x, y2, linewidth='2', color='#99CC33')\n",
      "ax1.axhline(color='grey')\n",
      "adjust_spines(ax1, ['left','bottom'])\n",
      "\n",
      "\n",
      "fig.text(0, 0.5, 'Amplitude [m]', ha='right', va='center', rotation=90)\n",
      "fig.text(1.01, 0.5, u'Per\u00edodo [s]', color='#CC9900')\n",
      "_ = fig.text(1.01, 0.05, u'Dist\u00e2ncia [m]', color='#99CC33')"
     ],
     "language": "python",
     "metadata": {},
     "outputs": [],
     "prompt_number": null
    }
   ],
   "metadata": {}
  }
 ]
}