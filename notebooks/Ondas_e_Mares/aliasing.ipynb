{
 "metadata": {
  "name": ""
 },
 "nbformat": 3,
 "nbformat_minor": 0,
 "worksheets": [
  {
   "cells": [
    {
     "cell_type": "markdown",
     "metadata": {},
     "source": [
      "Clique [aqui](https://github.com/jlugao/aliasing_demo) para ver o original."
     ]
    },
    {
     "cell_type": "code",
     "collapsed": false,
     "input": [
      "import numpy as np\n",
      "\n",
      "twopi = 2 * np.pi\n",
      "amostrasporseg = 3 * 5  # Samples / sec\n",
      "frequenciasinal = 1 * 5  # Hz\n",
      "amostrasnoperiodo = np.round(amostrasporseg / frequenciasinal, decimals=0)\n",
      "\n",
      "omega = twopi * frequenciasinal / amostrasporseg\n",
      "z = np.arange(-twopi, twopi, 1. / amostrasporseg)"
     ],
     "language": "python",
     "metadata": {},
     "outputs": []
    },
    {
     "cell_type": "code",
     "collapsed": false,
     "input": [
      "import matplotlib.pyplot as plt\n",
      "import matplotlib.gridspec as gridspec\n",
      "from matplotlib.widgets import Slider\n",
      "\n",
      "def update(val):\n",
      "    freq = sfreq.val\n",
      "    znovo = np.arange(-twopi, twopi, 1. / freq)\n",
      "    amostragemreal= 3 * sfreq.val\n",
      "    omega = twopi*freq/amostrasporseg\n",
      "    omega2 = twopi * freq / amostrasporseg\n",
      "    y = np.sin(z * omega)\n",
      "    yf = np.sin(znovo * omega)\n",
      "    # Amostras por segundo.\n",
      "    ylinha = np.fft.fft(y)\n",
      "    beta.clear()\n",
      "    beta.plot(znovo, yf)\n",
      "    beta.plot(z, y, 'o-', lw=2)\n",
      "    beta.set_xlim([-4, 4])\n",
      "    beta.set_xlabel('t')\n",
      "    beta.set_ylabel('x(t)')\n",
      "    beta.set_title('Sinal com amostragem correta x Sinal com amostragem fixa')\n",
      "    plot2.set_ydata(abs(ylinha))\n",
      "    plt.draw()"
     ],
     "language": "python",
     "metadata": {},
     "outputs": []
    },
    {
     "cell_type": "code",
     "collapsed": false,
     "input": [
      "zfft = np.arange(-1, 1, 2. / len(z))\n",
      "y = np.sin(z * omega)\n",
      "ylinha= np.fft.fft(y)\n",
      "#zlinha = np.fft.fftfreq(len(z))\n",
      "zlinha = zfft.copy()\n",
      "\n",
      "print(len(z), len(zfft))"
     ],
     "language": "python",
     "metadata": {},
     "outputs": []
    },
    {
     "cell_type": "code",
     "collapsed": false,
     "input": [
      "%pylab tk\n",
      "\n",
      "fig = plt.figure(figsize=(8, 6))\n",
      "gs = gridspec.GridSpec(3, 1,height_ratios=[1,2,0.25])\n",
      "\n",
      "fig.subplots_adjust(bottom=.75)\n",
      "\n",
      "#plot1, = ax.plot(z,y,'-')\n",
      "#ax.set_title('Sinal Com amostragem fixa')\n",
      "#ax.set_xlim([-4, 4])\n",
      "\n",
      "ax = fig.add_subplot(gs[0])\n",
      "plot2, = ax.plot(zlinha, abs(ylinha))\n",
      "ax.set_title('Espectro do sinal')\n",
      "ax.set_xlabel(r'$\\omega$/$\\pi$')\n",
      "ax.set_ylabel(r'|X($\\omega$)|')\n",
      "\n",
      "beta = fig.add_subplot(gs[1])\n",
      "plot3, = beta.plot(z,y,)\n",
      "beta.plot(z, y, 'o')\n",
      "beta.set_title('Sinal com amostragem correta x Sinal com amostragem fixa')\n",
      "beta.set_xlabel(r't')\n",
      "beta.set_ylabel(r'x(t)')\n",
      "beta.set_xlim([-4,4])\n",
      "\n",
      "axfreq = plt.axes([0.25, 0.1, 0.65, 0.03])\n",
      "sfreq = Slider(axfreq, 'Freq', 0, 300.0, valinit=amostrasporseg)\n",
      "fig.tight_layout()\n",
      "\n",
      "_ = sfreq.on_changed(update)"
     ],
     "language": "python",
     "metadata": {},
     "outputs": []
    }
   ],
   "metadata": {}
  }
 ]
}