{
 "metadata": {
  "name": ""
 },
 "nbformat": 3,
 "nbformat_minor": 0,
 "worksheets": [
  {
   "cells": [
    {
     "cell_type": "code",
     "collapsed": false,
     "input": [
      "import numpy as np\n",
      "import matplotlib.pyplot as plt\n",
      "from matplotlib import animation\n",
      "from JSAnimation import IPython_display"
     ],
     "language": "python",
     "metadata": {},
     "outputs": [],
     "prompt_number": null
    },
    {
     "cell_type": "code",
     "collapsed": false,
     "input": [
      "# Wave 1:\n",
      "k1, omega1 = 5., 5.\n",
      "c1 = omega1 / k1\n",
      "# Wave 2:\n",
      "k2, omega2 = 3., 4.5\n",
      "c2 = omega2 / k2\n",
      "\n",
      "cg = (omega2 - omega1) / (k2 - k1)\n",
      "cgc = (omega2 + omega1) / (k2 + k1)\n",
      "\n",
      "deltg = 10 if cg <= 0 else 10."
     ],
     "language": "python",
     "metadata": {},
     "outputs": [],
     "prompt_number": null
    },
    {
     "cell_type": "code",
     "collapsed": false,
     "input": [
      "def basic_animation(frames=200, interval=30, dt=0.1):\n",
      "    fig = plt.figure(figsize=(16, 4))\n",
      "    ax = plt.axes(xlim=(-15, 15), ylim=(-2, 2))\n",
      "    \n",
      "    # Animated line.\n",
      "    kw = dict(alpha=0.5, linestyle='none', marker='o')\n",
      "    text = ax.text([], 0, 'Cg')\n",
      "    line0, = ax.plot([], [], linestyle=':', color='gray')\n",
      "    line1, = ax.plot([], [], 'r')\n",
      "    line2, = ax.plot([], [], 'g')\n",
      "    line3, = ax.plot([], [], 'k', alpha=0.5)\n",
      "    line4, = ax.plot([], [], 'k', alpha=0.5)\n",
      "    point0, = ax.plot([], [], 'r', **kw)\n",
      "    point1, = ax.plot([], [], 'g', **kw)\n",
      "    point2, = ax.plot([], [], 'b', **kw)\n",
      "\n",
      "    # Non animated lines.\n",
      "    x = np.arange(-15, 15, 0.05)  # Distance domain.\n",
      "    ax.set_xlabel('Distance')\n",
      "    ax.set_ylabel('Amplitude')\n",
      "    \n",
      "    def init():\n",
      "        return line0, line1, line2, line3, line4, point0, point1, point2, text\n",
      "\n",
      "    def animate(k):\n",
      "        t = k * dt\n",
      "        arg1, arg2 = k1 * x - omega1 * t, k2 * x - omega2 * t\n",
      "        s1, s2 = np.cos(arg1), np.cos(arg2)\n",
      "        summ = s1 + s2\n",
      "        sg = 2 * np.cos((k2 - k1) * x / 2. - (omega2 - omega1) * t / 2.)\n",
      "        \n",
      "        line0.set_data(x, summ)\n",
      "        line1.set_data(x,   s1)\n",
      "        line2.set_data(x,   s2)\n",
      "        line3.set_data(x,   sg)\n",
      "        line4.set_data(x,  -sg)\n",
      "        point0.set_data(t *  c1 - 10, 0)\n",
      "        point1.set_data(t *  c2 - 10, 0)\n",
      "        point2.set_data(t * cgc - 10, 0)\n",
      "        text.set_x(t * cg - deltg)\n",
      "        return line0, line1, line2, line3, line4, point0, point1, point2, text\n",
      "\n",
      "    return animation.FuncAnimation(fig, animate, init_func=init,\n",
      "                                   frames=frames, interval=interval)"
     ],
     "language": "python",
     "metadata": {},
     "outputs": [],
     "prompt_number": null
    },
    {
     "cell_type": "code",
     "collapsed": false,
     "input": [
      "dt = 0.1  # Time step\n",
      "nstep = 100  # Number of time steps to take.\n",
      "basic_animation(frames=60, dt=dt)"
     ],
     "language": "python",
     "metadata": {},
     "outputs": [],
     "prompt_number": null
    },
    {
     "cell_type": "code",
     "collapsed": false,
     "input": [],
     "language": "python",
     "metadata": {},
     "outputs": []
    }
   ],
   "metadata": {}
  }
 ]
}