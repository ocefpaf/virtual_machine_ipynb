{
 "metadata": {
  "name": "",
  "signature": "sha256:fb3e1eec565ac4df2063923730d077a872496f4360d408a02be0f5dc2b21e39b"
 },
 "nbformat": 3,
 "nbformat_minor": 0,
 "worksheets": [
  {
   "cells": [
    {
     "cell_type": "code",
     "collapsed": false,
     "input": [
      "import numpy as np\n",
      "import matplotlib.pyplot as plt\n",
      "\n",
      "x0, y0 =1, 1\n",
      "r = -0.000001\n",
      "t = np.arange(1, 5e5)\n",
      "f0 = -0.0001\n",
      "\n",
      "x = (x0 / r) * (np.exp(r * t)) * (f0 * np.sin(f0 * t) + r * np.cos(f0 * t))\n",
      "y = -(y0 / f0) * (np.exp(r * t)) * (r * np.sin(f0 * t) - f0 * np.cos(f0 * t))\n",
      "\n",
      "fig, ax = plt.subplots()\n",
      "ax.plot(x, y)"
     ],
     "language": "python",
     "metadata": {},
     "outputs": [],
     "prompt_number": null
    }
   ],
   "metadata": {}
  }
 ]
}