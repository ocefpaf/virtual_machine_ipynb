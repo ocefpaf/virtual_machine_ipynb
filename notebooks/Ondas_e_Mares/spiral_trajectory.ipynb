{
 "metadata": {
  "name": ""
 },
 "nbformat": 3,
 "nbformat_minor": 0,
 "worksheets": [
  {
   "cells": [
    {
     "cell_type": "code",
     "collapsed": false,
     "input": [
      "import numpy as np\n",
      "import matplotlib.pyplot as plt\n",
      "\n",
      "x0, y0 =1, 1\n",
      "r = -0.000001\n",
      "t = np.arange(1, 1e5)\n",
      "f0 = -0.0001\n",
      "\n",
      "x = (x0 / r) * (np.exp(r * t)) * (f0 * np.sin(f0 * t) + r * np.cos(f0 * t))\n",
      "y = -(y0 / f0) * (np.exp(r * t)) * (r * np.sin(f0 * t) - f0 * np.cos(f0 * t))\n",
      "\n",
      "fig, ax = plt.subplots()\n",
      "ax.plot(x, y)"
     ],
     "language": "python",
     "metadata": {},
     "outputs": [],
     "prompt_number": null
    },
    {
     "cell_type": "code",
     "collapsed": false,
     "input": [],
     "language": "python",
     "metadata": {},
     "outputs": []
    }
   ],
   "metadata": {}
  }
 ]
}