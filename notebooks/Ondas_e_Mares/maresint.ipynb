{
 "metadata": {
  "name": "",
  "signature": "sha256:5c6fca9403a3c35d1d720a1ef7ed7901b373dd85c9d1ed056d0d1b38d56e89de"
 },
 "nbformat": 3,
 "nbformat_minor": 0,
 "worksheets": [
  {
   "cells": [
    {
     "cell_type": "code",
     "collapsed": false,
     "input": [
      "import numpy as np\n",
      "\n",
      "\n",
      "def maresint(N):\n",
      "    r\"\"\"Create a synthetic tidal signal for N days.\"\"\"\n",
      "\n",
      "    deg2rad = np.pi / 180\n",
      "    Nhours = N * 24\n",
      "    series = np.arange(1, Nhours + 1)\n",
      "\n",
      "    # Tidal constituents.\n",
      "    Sa   =  1 * np.cos(0.000717 * series + 201 * deg2rad)\n",
      "    Ssa  =  2 * np.cos(0.001434 * series + 202 * deg2rad)\n",
      "    MM   =  3 * np.cos(0.009501 * series + 203 * deg2rad)\n",
      "    MF   =  4 * np.cos(0.019164 * series + 204 * deg2rad)\n",
      "    MSF  =  5 * np.cos(0.017731 * series + 205 * deg2rad)\n",
      "\n",
      "    Q1   =  6 * np.cos(0.233851 * series +   6 * deg2rad)\n",
      "    O1   = 17 * np.cos(0.243352 * series + 107 * deg2rad)\n",
      "    M1   =  8 * np.cos(0.252934 * series + 298 * deg2rad)\n",
      "    P1   =  9 * np.cos(0.261083 * series +  99 * deg2rad)\n",
      "    K1   = 10 * np.cos(0.262516 * series +  10 * deg2rad)\n",
      "    J1   =  1 * np.cos(0.272017 * series + 311 * deg2rad)\n",
      "    OO1  = 12 * np.cos(0.281680 * series + 212 * deg2rad)\n",
      "\n",
      "    MNS2 =  3 * np.cos(0.478636 * series +   9 * deg2rad)\n",
      "    N22  =  6 * np.cos(0.486866 * series + 111 * deg2rad) # 2N2\n",
      "    MU2  =  1 * np.cos(0.488137 * series + 181 * deg2rad)\n",
      "    N2   =  4 * np.cos(0.496367 * series +  22 * deg2rad)\n",
      "    NU2  = 15 * np.cos(0.497638 * series + 356 * deg2rad)\n",
      "    M2   = 60 * np.cos(0.505868 * series + 104 * deg2rad)\n",
      "    L2   = 17 * np.cos(0.515369 * series + 100 * deg2rad)\n",
      "    T2   = 21 * np.cos(0.522882 * series +  16 * deg2rad)\n",
      "    S2   = 43 * np.cos(0.523599 * series + 137 * deg2rad)\n",
      "    K2   = 12 * np.cos(0.525032 * series + 308 * deg2rad)\n",
      "\n",
      "    MO3  =  1 * np.cos(0.749220 * series + 109 * deg2rad)\n",
      "    M3   = 22 * np.cos(0.758802 * series + 210 * deg2rad)\n",
      "    MK3  =  3 * np.cos(0.768384 * series + 111 * deg2rad)\n",
      "\n",
      "    MN4  = 14 * np.cos(1.002235 * series + 131 * deg2rad)\n",
      "    M4   =  5 * np.cos(1.011736 * series + 132 * deg2rad)\n",
      "    SN4  = 26 * np.cos(1.019966 * series + 333 * deg2rad)\n",
      "    MS4  = 17 * np.cos(1.029467 * series + 134 * deg2rad)\n",
      "\n",
      "    return (Sa + Ssa + MM + MF + MSF + Q1 + O1 + M1 + P1 + K1 + J1 + OO1 +\n",
      "            MNS2 + N22 + MU2 + N2 + NU2 + M2 + L2 + T2 + S2 + K2 + MO3 + M3 +\n",
      "            MK3 + MN4 + M4 + SN4 + MS4)"
     ],
     "language": "python",
     "metadata": {},
     "outputs": [],
     "prompt_number": null
    },
    {
     "cell_type": "code",
     "collapsed": false,
     "input": [
      "import matplotlib.pyplot as plt\n",
      "\n",
      "tide = maresint(60)\n",
      "fig, ax = plt.subplots()\n",
      "ax.plot(tide)"
     ],
     "language": "python",
     "metadata": {},
     "outputs": [],
     "prompt_number": null
    }
   ],
   "metadata": {}
  }
 ]
}