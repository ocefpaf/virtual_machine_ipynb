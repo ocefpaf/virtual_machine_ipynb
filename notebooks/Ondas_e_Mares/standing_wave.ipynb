{
 "metadata": {
  "name": ""
 },
 "nbformat": 3,
 "nbformat_minor": 0,
 "worksheets": [
  {
   "cells": [
    {
     "cell_type": "code",
     "collapsed": false,
     "input": [
      "import numpy as np\n",
      "import matplotlib.pyplot as plt"
     ],
     "language": "python",
     "metadata": {},
     "outputs": []
    },
    {
     "cell_type": "code",
     "collapsed": false,
     "input": [
      "N0, w, k = 0.5, 0.43, 0.014\n",
      "\n",
      "x = np.arange(1, 1001)\n",
      "Ne0 = 2 * N0 * np.cos(k * x) * np.cos(-w * 0)\n",
      "Ne2 = 2 * N0 * np.cos(k * x) * np.cos(-w * 2)\n",
      "Ne8 = 2 * N0 * np.cos(k * x) * np.cos(-w * 8)\n",
      "Ne9 = 2 * N0 * np.cos(k * x) * np.cos(-w * 9)"
     ],
     "language": "python",
     "metadata": {},
     "outputs": []
    },
    {
     "cell_type": "code",
     "collapsed": false,
     "input": [
      "fig, ax = plt.subplots()\n",
      "ax.plot(Ne0, 'k:')\n",
      "ax.plot(Ne2, 'b')\n",
      "ax.plot(Ne8, 'k')\n",
      "ax.plot(Ne9, 'b:')\n",
      "ax.set_title(u'Onda estacion\u00e1ria')\n",
      "ax.set_xlabel('Eixo x [m]')\n",
      "_ = ax.set_ylabel(r'$\\eta$ [m]')"
     ],
     "language": "python",
     "metadata": {},
     "outputs": []
    }
   ],
   "metadata": {}
  }
 ]
}