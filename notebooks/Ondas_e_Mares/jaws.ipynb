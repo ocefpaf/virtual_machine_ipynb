{
 "metadata": {
  "name": "",
  "signature": "sha256:43032d49051b328e7099fc881311e5b2e11cbcde6178d643a0cb101fc2a9e016"
 },
 "nbformat": 3,
 "nbformat_minor": 0,
 "worksheets": [
  {
   "cells": [
    {
     "cell_type": "code",
     "collapsed": false,
     "input": [
      "from IPython.display import HTML"
     ],
     "language": "python",
     "metadata": {},
     "outputs": []
    },
    {
     "cell_type": "markdown",
     "metadata": {},
     "source": [
      "## Altura e dire\u00e7\u00e3o de onda usando a lei de snell e batimetria real\u00edstica"
     ]
    },
    {
     "cell_type": "code",
     "collapsed": false,
     "input": [
      "import numpy as np\n",
      "import numpy.ma as ma\n",
      "\n",
      "# Constantes.\n",
      "g = 9.81\n",
      "twopi = 2 * np.pi\n",
      "    \n",
      "# Rela\u00e7\u00e3o de dispers\u00e3o (Resolvida pelo m\u00e9todo de Newton-Raphson).\n",
      "def dispersion_relationship(T, h, Ho, thetao):\n",
      "    omega = twopi / T\n",
      "    Lo = (g * T ** 2) / twopi\n",
      "    # Come\u00e7a pela rela\u00e7\u00e3o de dispers\u00e3o de \u00e1guas profundas.\n",
      "    k = omega / np.sqrt(g)\n",
      "    # Vamos aproximando por incrementos de \"f\".\n",
      "    f = g * k * np.tanh(k * h) - omega ** 2\n",
      "    while np.abs(f.max()) > 1e-7:\n",
      "        dfdk = (g * k * h * (1 / (np.cosh(k * h))) ** 2 + g * np.tanh(k * h))\n",
      "        k = k - f / dfdk\n",
      "        f = g * k * np.tanh(k * h) - omega ** 2\n",
      "\n",
      "    # Com o n\u00famero de onda resolvido podemos calcular:\n",
      "    L = twopi / k\n",
      "    C = omega / k\n",
      "    Co = Lo / T\n",
      "    G = 2 * k * h / np.sinh(2 * k * h)\n",
      "    \n",
      "    # Aqui \u00e9 basicamente a lei de Snell.\n",
      "    theta = np.rad2deg(np.arcsin(C / Co * np.sin(np.deg2rad(thetao))))\n",
      "    Kr = np.sqrt(np.cos(np.deg2rad(thetao)) / np.cos(np.deg2rad(theta)))\n",
      "    Ks = np.sqrt(1 / (1 + G) / np.tanh(k * h))\n",
      "    H = Ho * Ks * Kr\n",
      "    # Retorna Altura de onda e \u00e2ngulo.\n",
      "    return map(ma.asanyarray, (theta, H))"
     ],
     "language": "python",
     "metadata": {},
     "outputs": []
    },
    {
     "cell_type": "markdown",
     "metadata": {},
     "source": [
      "Problema: Determine o per\u00edodo da onda que come\u00e7aria a \"sentir\" o fundo em 10\n",
      "metros de coluna d'\u00e1gua.\n",
      "\n",
      "O fundo come\u00e7a a afetar quando a coluna d'\u00e1gua \u00e9 $\\frac{L}{2}$, logo, para qual\n",
      "per\u00edodo de onda o comprimento de onda \u00e9 igual a 20 metros?\n",
      "\n",
      "\n",
      "Note que a altura de onda, na teoria linear, n\u00e3o afeta os c\u00e1lculos."
     ]
    },
    {
     "cell_type": "markdown",
     "metadata": {},
     "source": [
      "## Maui Jaws"
     ]
    },
    {
     "cell_type": "markdown",
     "metadata": {},
     "source": [
      "Download the [data](ftp://ftp.soest.hawaii.edu/pjohnson/MultibeamSynthesis_V19/netcdf/himbsyn.bathy.v19.grd.zip) provided by \n",
      "http://www.soest.hawaii.edu/hmrg/multibeam/."
     ]
    },
    {
     "cell_type": "code",
     "collapsed": false,
     "input": [
      "import os\n",
      "import iris\n",
      "\n",
      "longitude = lambda cell: -156.2765 <= cell <= -156.256\n",
      "latitude = lambda cell: 20.934 <= cell <= 20.9405\n",
      "constraint = iris.Constraint(coord_values=dict(longitude=longitude,\n",
      "                                               latitude=latitude))\n",
      "\n",
      "fname = '../../data/himbsyn.bathy_reduce.v19.nc'\n",
      "\n",
      "if not os.path.isfile(fname):\n",
      "    bathy = iris.load_cube('../../data/himbsyn.bathy.v19.grd', constraint)\n",
      "    iris.save(bathy, fname)\n",
      "else:\n",
      "    bathy = iris.load_cube(fname)\n",
      "print(bathy)"
     ],
     "language": "python",
     "metadata": {},
     "outputs": []
    },
    {
     "cell_type": "code",
     "collapsed": false,
     "input": [
      "import cartopy.crs as ccrs\n",
      "import iris.quickplot as qplt\n",
      "import matplotlib.pyplot as plt\n",
      "from cartopy.mpl.gridliner import LONGITUDE_FORMATTER, LATITUDE_FORMATTER\n",
      "\n",
      "def plot_bathy(data, cmap=plt.cm.gist_earth_r):\n",
      "    fig, ax = plt.subplots(figsize=(8, 8), subplot_kw=dict(projection=ccrs.PlateCarree()))\n",
      "    qplt.pcolormesh(data, cmap=cmap)\n",
      "    gl = ax.gridlines(crs=ccrs.PlateCarree(), draw_labels=True,\n",
      "                      linewidth=1.5, color='gray', alpha=0.5, linestyle='--')\n",
      "    gl.xlabels_top = False\n",
      "    gl.ylabels_right = False\n",
      "    gl.xformatter = LONGITUDE_FORMATTER\n",
      "    gl.yformatter = LATITUDE_FORMATTER\n",
      "    return fig, ax"
     ],
     "language": "python",
     "metadata": {},
     "outputs": []
    },
    {
     "cell_type": "code",
     "collapsed": false,
     "input": [
      "# Model requires positive values for bathymetry.\n",
      "h = -bathy.data\n",
      "land = bathy.data.mask\n",
      "metadata = bathy.metadata"
     ],
     "language": "python",
     "metadata": {},
     "outputs": []
    },
    {
     "cell_type": "code",
     "collapsed": false,
     "input": [
      "# Start at the deepest bathymetry and goes from there up to the coast.\n",
      "h = np.flipud(h)\n",
      "rows, cols = h.shape\n",
      "\n",
      "theta, H = [], []\n",
      "for row in range(rows):\n",
      "    if row == 0:  # First.\n",
      "        thetao, Ho = dispersion_relationship(T=10, h=h[row, :],\n",
      "                                             Ho=3, thetao=45)\n",
      "    else:\n",
      "        thetao, Ho = dispersion_relationship(T=10, h=h[row, :],\n",
      "                                             Ho=Ho, thetao=thetao)\n",
      "    H.append(Ho)\n",
      "    theta.append(thetao)\n",
      "    \n",
      "# Flip then back.\n",
      "H = np.flipud(H)\n",
      "theta = np.flipud(theta)\n",
      "\n",
      "# Apply land mask.\n",
      "H = ma.masked_array(H, land)\n",
      "theta = ma.masked_array(theta, land)\n",
      "\n",
      "# Make them iris cubes for quickplotting.\n",
      "H = iris.cube.Cube(H)\n",
      "H.metadata = bathy.metadata\n",
      "\n",
      "theta = iris.cube.Cube(theta)\n",
      "theta.metadata = bathy.metadata"
     ],
     "language": "python",
     "metadata": {},
     "outputs": []
    },
    {
     "cell_type": "code",
     "collapsed": false,
     "input": [
      "fig, ax = plot_bathy(bathy)\n",
      "fig, ax = plot_bathy(H, cmap=plt.cm.YlGnBu)\n",
      "ax.set_title('Wave height [m]')\n",
      "fig, ax = plot_bathy(theta, cmap=plt.cm.YlGnBu_r)\n",
      "ax.set_title('Angle [degrees]')"
     ],
     "language": "python",
     "metadata": {},
     "outputs": []
    },
    {
     "cell_type": "code",
     "collapsed": false,
     "input": [
      "# http://www.coastal.udel.edu/faculty/rad/wavetheory.html\n",
      "HTML('<iframe src=http://www.coastal.udel.edu/ngs/ width=700 height=350></iframe>')"
     ],
     "language": "python",
     "metadata": {},
     "outputs": []
    }
   ],
   "metadata": {}
  }
 ]
}