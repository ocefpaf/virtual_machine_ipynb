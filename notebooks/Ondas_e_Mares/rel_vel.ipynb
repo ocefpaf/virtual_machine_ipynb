{
 "metadata": {
  "name": ""
 },
 "nbformat": 3,
 "nbformat_minor": 0,
 "worksheets": [
  {
   "cells": [
    {
     "cell_type": "code",
     "collapsed": false,
     "input": [
      "import numpy as np\n",
      "\n",
      "g = 9.8\n",
      "dt = 0.01\n",
      "rel = np.arange(0.01, 0.6 + dt, dt)\n",
      "err = 0.95\n",
      "\n",
      "Cc = np.sqrt(np.tanh(2 * np.pi * rel))\n",
      "Cl = np.sqrt((1 / (2 * np.pi * rel)) * np.tanh(2 * np.pi * rel))"
     ],
     "language": "python",
     "metadata": {},
     "outputs": []
    },
    {
     "cell_type": "code",
     "collapsed": false,
     "input": [
      "import matplotlib.pyplot as plt\n",
      "\n",
      "fig, ax = plt.subplots()\n",
      "ax.plot(rel, Cc, 'k')\n",
      "ax.plot(rel, Cl, 'b')\n",
      "ax.set_title('Velocity comparison by H/L [error > 5% in red]')\n",
      "ax.set_xlabel('H/L')\n",
      "ax.set_ylabel('C/Cc (preto) e C/Cl (Azul)')\n",
      "\n",
      "errCc = Cc < err\n",
      "errCl = Cl < err\n",
      "\n",
      "ax.plot(rel[errCl], Cl[errCl], 'r')\n",
      "_ = ax.plot(rel[errCc], Cc[errCc], 'r')"
     ],
     "language": "python",
     "metadata": {},
     "outputs": []
    },
    {
     "cell_type": "code",
     "collapsed": false,
     "input": [
      "print(rel[errCl].min())\n",
      "print(rel[errCc].max())"
     ],
     "language": "python",
     "metadata": {},
     "outputs": []
    }
   ],
   "metadata": {}
  }
 ]
}