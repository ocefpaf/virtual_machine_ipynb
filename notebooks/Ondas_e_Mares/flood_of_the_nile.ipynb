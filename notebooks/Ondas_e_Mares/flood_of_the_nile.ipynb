{
 "metadata": {
  "name": "",
  "signature": "sha256:9ddf40e1f9cd9ef86ce0fcb81e97846e608ab21ffda77d2de3e0a1c73bc64acc"
 },
 "nbformat": 3,
 "nbformat_minor": 0,
 "worksheets": [
  {
   "cells": [
    {
     "cell_type": "markdown",
     "metadata": {},
     "source": [
      "### Notebook original:\n",
      "\n",
      "http://nbviewer.ipython.org/urls/raw.github.com/LCAV/SignalsOfTheDay/master/FloodsOfTheNile.ipynb"
     ]
    },
    {
     "cell_type": "markdown",
     "metadata": {},
     "source": [
      "As enchentes do Rio Nilo\n",
      "------------------------\n",
      "\n",
      "Os dados que vamos utilizar s\u00e3o m\u00e9dias mensais de **?** para os anos de 1970 at\u00e9 1984."
     ]
    },
    {
     "cell_type": "code",
     "collapsed": false,
     "input": [
      "from pandas import Series, read_csv\n",
      "\n",
      "FN = read_csv('../../data/nile_rover_flood.csv', index_col='year', na_values='-9999.0', usecols=range(13))\n",
      "FN.head(5)"
     ],
     "language": "python",
     "metadata": {},
     "outputs": []
    },
    {
     "cell_type": "code",
     "collapsed": false,
     "input": [
      "from datetime import datetime\n",
      "from pandas import Series\n",
      "\n",
      "# Junta tudo em uma s\u00e9rie temporal.\n",
      "years = FN.index.values.astype(int)\n",
      "months = FN.columns.values.astype(str)\n",
      "date = []\n",
      "for year in years:\n",
      "    for month in months:\n",
      "        date.append(datetime.strptime('%s %s' % (year, month), '%Y %b'))\n",
      "        \n",
      "flood = Series(FN.values.ravel(), index=date)"
     ],
     "language": "python",
     "metadata": {},
     "outputs": []
    },
    {
     "cell_type": "code",
     "collapsed": false,
     "input": [
      "ax = flood.plot(figsize=(12, 4))\n",
      "_ = ax.set_title('Full dataset')"
     ],
     "language": "python",
     "metadata": {},
     "outputs": []
    },
    {
     "cell_type": "markdown",
     "metadata": {},
     "source": [
      "Agora amos plotar todas as curvas para cada ano uma sobre a outra."
     ]
    },
    {
     "cell_type": "code",
     "collapsed": false,
     "input": [
      "data = FN.T\n",
      "ax = data.plot(legend=False)\n",
      "_ = ax.set_title('Yearly curves overlapped')"
     ],
     "language": "python",
     "metadata": {},
     "outputs": []
    },
    {
     "cell_type": "markdown",
     "metadata": {},
     "source": [
      "Transformada de Fourier discreta\n",
      "--------------------------------\n",
      "\n",
      "N\u00f3s queremos estudar a ocorr\u00eancia de inunda\u00e7\u00f5es do rio Nilo.  Para isso vamos usar nossa ferramenta favorita: a DFT.\n",
      "\n",
      "$$\n",
      "  X_k = \\sum_{n=0}^{N-1} x_n e^{j2\\pi \\frac{nk}{N}}\n",
      "$$"
     ]
    },
    {
     "cell_type": "code",
     "collapsed": false,
     "input": [
      "from numpy.fft import fft\n",
      "\n",
      "N = len(flood)\n",
      "\n",
      "F = fft(flood.dropna() - flood.mean())\n",
      "\n",
      "F = F[:N / 2 + 1]  # J\u00e1 que o sinal \u00e9 real, podemos manter apenas uma metade do espectro."
     ],
     "language": "python",
     "metadata": {},
     "outputs": []
    },
    {
     "cell_type": "markdown",
     "metadata": {},
     "source": [
      "Ao inv\u00e9s de usar um \u00edndice linear do vetor, n\u00f3s queremos saber a qual\n",
      "frequ\u00eancia cada ponto corresponde.  A diferen\u00e7a da frequ\u00eancia em dois pontos na\n",
      "DFT \u00e9 $N/T$."
     ]
    },
    {
     "cell_type": "code",
     "collapsed": false,
     "input": [
      "import numpy as np\n",
      "\n",
      "total_time = (flood.index[-1] - flood.index[0]).total_seconds() / (60 * 60 * 24 * 30 * 12)\n",
      "freq = np.arange(0, N / 2 + 1) / total_time"
     ],
     "language": "python",
     "metadata": {},
     "outputs": []
    },
    {
     "cell_type": "code",
     "collapsed": false,
     "input": [
      "import matplotlib.pyplot as plt\n",
      "\n",
      "fig, ax = plt.subplots()\n",
      "ax.plot(freq, np.abs(F))\n",
      "ax.set_xlabel('1/year')\n",
      "ax.set_ylabel('|dft(A)|')\n",
      "_ = ax.set_xlim(-0.1, 6.1)"
     ],
     "language": "python",
     "metadata": {},
     "outputs": []
    }
   ],
   "metadata": {}
  }
 ]
}