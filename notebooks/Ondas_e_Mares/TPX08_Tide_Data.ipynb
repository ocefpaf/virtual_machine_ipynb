{
 "metadata": {
  "name": "",
  "signature": "sha256:9ae67da946d0f2c74d39f87aa30103ff3331eb77792f9bc34b6f0746c8cf2789"
 },
 "nbformat": 3,
 "nbformat_minor": 0,
 "worksheets": [
  {
   "cells": [
    {
     "cell_type": "markdown",
     "metadata": {},
     "source": [
      "OPeNDAP Data URLs for TPX08 Data on Geoport THREDDS Server."
     ]
    },
    {
     "cell_type": "code",
     "collapsed": false,
     "input": [
      "cons = ['m2', 'n2', 's2', 'k2', 'k1', 'o1', 'p1', 'q1', 'm4']\n",
      "\n",
      "url = dict()\n",
      "for con in cons:\n",
      "    url[con] = 'http://geoport.whoi.edu/thredds/dodsC/usgs/data2/rsignell/data/tpx08/nc4/%s_nc4.nc' % con"
     ],
     "language": "python",
     "metadata": {},
     "outputs": []
    },
    {
     "cell_type": "markdown",
     "metadata": {},
     "source": [
      "Open the OPeNDAP Dataset using the NetCDF4-Python library."
     ]
    },
    {
     "cell_type": "code",
     "collapsed": false,
     "input": [
      "from netCDF4 import Dataset\n",
      "\n",
      "nc = Dataset(url['m2']).variables\n",
      "nc.keys()\n",
      "print(nc['hRe'])"
     ],
     "language": "python",
     "metadata": {},
     "outputs": []
    },
    {
     "cell_type": "markdown",
     "metadata": {},
     "source": [
      "Specify region to extract [lon_min, lon_max, lat_min, lat_max]."
     ]
    },
    {
     "cell_type": "code",
     "collapsed": false,
     "input": [
      "box = [-48.0 + 360, -44.0 + 360, -26.0, -22.0]  # Bacia de Santos.\n",
      "#box = [-46.5 + 360, -46.2 + 360, -24.2, -23.7]  # Cidade de Santos.\n",
      "#box = [-54.0 + 360, -30.0 + 360, -35.0,   5.0]  # Brasil"
     ],
     "language": "python",
     "metadata": {},
     "outputs": []
    },
    {
     "cell_type": "code",
     "collapsed": false,
     "input": [
      "lon, lat = nc['lon_z'][:], nc['lat_z'][:]\n",
      "bi = (lon >= box[0]) & (lon <= box[1])\n",
      "bj = (lat >= box[2]) & (lat <= box[3])"
     ],
     "language": "python",
     "metadata": {},
     "outputs": []
    },
    {
     "cell_type": "markdown",
     "metadata": {},
     "source": [
      "Extract the complex amplitude components for this subregion.  The index dimensions\n",
      "in NetCDF file are reversed from usual [j,i] ordering, so transpose"
     ]
    },
    {
     "cell_type": "code",
     "collapsed": false,
     "input": [
      "zi = nc['hIm'][bi, bj].T\n",
      "zr = nc['hRe'][bi, bj].T\n",
      "lon = nc['lon_z'][bi]\n",
      "lat = nc['lat_z'][bj]"
     ],
     "language": "python",
     "metadata": {},
     "outputs": []
    },
    {
     "cell_type": "markdown",
     "metadata": {},
     "source": [
      "Compute amplitude and phase from real and imaginary parts."
     ]
    },
    {
     "cell_type": "code",
     "collapsed": false,
     "input": [
      "import numpy as np\n",
      "import numpy.ma as ma\n",
      "\n",
      "amp = np.abs(zr + 1j * zi) / 1000.  # Convert millibars to meters.\n",
      "phase = np.rad2deg(np.arctan2(-zi, zr))\n",
      "amp = ma.masked_equal(amp, 0.)\n",
      "phase = ma.masked_equal(phase, 0.)"
     ],
     "language": "python",
     "metadata": {},
     "outputs": []
    },
    {
     "cell_type": "code",
     "collapsed": false,
     "input": [
      "import matplotlib.pyplot as plt\n",
      "\n",
      "import cartopy.crs as ccrs\n",
      "from cartopy.feature import LAND\n",
      "from cartopy.mpl.gridliner import LONGITUDE_FORMATTER, LATITUDE_FORMATTER\n",
      "\n",
      "cmap = plt.cm.rainbow\n",
      "\n",
      "cbarkw = dict(shrink=0.75, extend='both')\n",
      "figkw = dict(ncols=2, figsize=(12, 4), subplot_kw=dict(projection=ccrs.PlateCarree()))\n",
      "    \n",
      "fig, (ax0, ax1) = plt.subplots(**figkw)\n",
      "cs = ax0.pcolormesh(lon, lat, amp, cmap=cmap)\n",
      "ax0.set_title('TPX08: M2 amplitude (m)')\n",
      "ax0.coastlines('50m', color='k')\n",
      "gl = ax0.gridlines(crs=ccrs.PlateCarree(), draw_labels=True,\n",
      "                   linewidth=1.5, color='gray', alpha=0.5, linestyle='--')\n",
      "gl.xlabels_top = False\n",
      "gl.ylabels_right = False\n",
      "gl.xformatter = LONGITUDE_FORMATTER\n",
      "gl.yformatter = LATITUDE_FORMATTER\n",
      "fig.colorbar(cs, ax=ax0, **cbarkw)\n",
      "\n",
      "levels = np.arange(-np.pi, np.pi + np.pi/2, np.pi/2)\n",
      "cs = ax1.pcolormesh(lon, lat, phase, cmap=cmap)\n",
      "cbar = fig.colorbar(cs, ax=ax1, **cbarkw)\n",
      "cs = ax1.contour(lon, lat, np.deg2rad(phase), colors='k', levels=levels)\n",
      "ax1.clabel(cs, fmt='%2.2f')\n",
      "for t in cs.labelTexts:\n",
      "    if float(t.get_text()) == -3.14:\n",
      "        t.set_text(r'$-\\pi$')\n",
      "    elif float(t.get_text()) == -1.57:\n",
      "        t.set_text(r'$-\\pi/2$')\n",
      "    elif float(t.get_text()) == 0:\n",
      "        t.set_text(r'$2\\pi$')\n",
      "    elif float(t.get_text()) == 1.57:\n",
      "        t.set_text(r'$\\pi/2$')\n",
      "    elif float(t.get_text()) == 3.14:\n",
      "        t.set_text(r'$\\pi$')\n",
      "ax1.set_title('TPX08: M2 phase (degrees)')\n",
      "ax1.coastlines('50m', color='k')\n",
      "gl = ax1.gridlines(crs=ccrs.PlateCarree(), draw_labels=True,\n",
      "                   linewidth=1.5, color='gray', alpha=0.5, linestyle='--')\n",
      "gl.xlabels_top = False\n",
      "gl.ylabels_right = False\n",
      "gl.xformatter = LONGITUDE_FORMATTER\n",
      "gl.yformatter = LATITUDE_FORMATTER"
     ],
     "language": "python",
     "metadata": {},
     "outputs": []
    },
    {
     "cell_type": "code",
     "collapsed": false,
     "input": [
      "import iris\n",
      "import iris.plot as iplt\n",
      "from brewer2mpl import brewer2mpl\n",
      "\n",
      "constraint = iris.Constraint(coord_values={'longitude': lambda cell: box[0]-360 <= cell <= box[1]-360,\n",
      "                                           'latitude': lambda cell: box[2] <= cell <= box[3]})\n",
      "\n",
      "bathy = iris.load_cube('/home/filipe/00-NOBKP/OcFisData/ETOPO1_Bed_g_gmt4.grd', constraint)\n",
      "\n",
      "land = brewer2mpl.get_map('Greens', 'sequential', 9)\n",
      "ocean = brewer2mpl.get_map('Blues', 'sequential', 7, reverse=True)\n",
      "\n",
      "colors = np.array(ocean.mpl_colors + land.mpl_colors[2:])\n",
      "\n",
      "levels = [-4000, -2500, -1000, -700, -400, -145, -10, 0, 10, 145, 400, 800, 1200, 1600]\n",
      "\n",
      "fig, ax = plt.subplots(figsize=(8, 8), subplot_kw=dict(projection=ccrs.PlateCarree()))\n",
      "cs = iplt.contourf(bathy, levels, colors=colors, extend='both')\n",
      "fig.colorbar(cs, **cbarkw)\n",
      "ax.coastlines('50m', color='k')\n",
      "gl = ax.gridlines(crs=ccrs.PlateCarree(), draw_labels=True,\n",
      "                  linewidth=1.5, color='gray', alpha=0.5, linestyle='--')\n",
      "gl.xlabels_top = False\n",
      "gl.ylabels_right = False\n",
      "gl.xformatter = LONGITUDE_FORMATTER\n",
      "gl.yformatter = LATITUDE_FORMATTER"
     ],
     "language": "python",
     "metadata": {},
     "outputs": []
    }
   ],
   "metadata": {}
  }
 ]
}