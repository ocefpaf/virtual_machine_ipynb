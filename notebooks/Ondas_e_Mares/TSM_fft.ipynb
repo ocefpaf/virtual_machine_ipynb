{
 "metadata": {
  "name": "",
  "signature": "sha256:6552299440f769864b13c21f0108b24d7c3ba1a0df8ea0e29bc31a7692c534db"
 },
 "nbformat": 3,
 "nbformat_minor": 0,
 "worksheets": [
  {
   "cells": [
    {
     "cell_type": "code",
     "collapsed": false,
     "input": [
      "import numpy as np\n",
      "TSM = np.array([ 7.6,  7.4,  8.2,  9.2, 10.2, 11.5, 12.4, 13.4, 13.7, 11.8, 10.1, 9.0,\n",
      "                 8.9,  9.5, 10.6, 11.4, 12.9, 12.7, 13.9, 14.2, 13.5, 11.4, 10.9, 8.1])\n",
      "\n",
      "months = np.arange(0, 24) + 1"
     ],
     "language": "python",
     "metadata": {},
     "outputs": []
    },
    {
     "cell_type": "code",
     "collapsed": false,
     "input": [
      "import matplotlib.pyplot as plt\n",
      "fig, ax = plt.subplots()\n",
      "ax.plot(months, TSM)\n",
      "_ = ax.set_xlabel(r'Temperatura [$^\\circ$C]')"
     ],
     "language": "python",
     "metadata": {},
     "outputs": []
    },
    {
     "cell_type": "code",
     "collapsed": false,
     "input": [
      "N = len(TSM)\n",
      "A0, B0 = (2. / N) * sum(TSM), 0"
     ],
     "language": "python",
     "metadata": {},
     "outputs": []
    },
    {
     "cell_type": "code",
     "collapsed": false,
     "input": [
      "twopi = 2 * np.pi\n",
      "y = TSM - TSM.mean()\n",
      "\n",
      "A = np.zeros(12)\n",
      "B = np.zeros(12)\n",
      "\n",
      "for p in np.arange(1, N/2 + 1):\n",
      "    for n in range(0, N):\n",
      "        A[p-1] += 2. / N * y[n] * np.cos(twopi * p * (n+1) / N)\n",
      "\n",
      "for p in np.arange(1, N/2 + 1):\n",
      "    for n in range(0, N):\n",
      "        B[p-1] += 2. / N * y[n] * np.sin(twopi * p * (n+1) / N)"
     ],
     "language": "python",
     "metadata": {},
     "outputs": []
    },
    {
     "cell_type": "code",
     "collapsed": false,
     "input": [
      "pmax = 1\n",
      "tsm1 = np.zeros_like(TSM)\n",
      "for n in range(0, N):\n",
      "    tsm1[n] = A0 / 2\n",
      "    for p in range(1, pmax+1):\n",
      "        tsm1[n] += (A[p-1] * np.cos(twopi * p * n / N) +\n",
      "                    B[p-1] * np.sin(twopi * p * n / N))\n",
      "\n",
      "pmax = 2\n",
      "tsm2 = np.zeros_like(TSM)\n",
      "for n in range(0, N):\n",
      "    tsm2[n] = A0 / 2\n",
      "    for p in range(1, pmax+1):\n",
      "        tsm2[n] += (A[p-1] * np.cos(twopi * p * n / N) +\n",
      "                    B[p-1] * np.sin(twopi * p * n / N))\n",
      "        \n",
      "pmax = 3\n",
      "tsm3 = np.zeros_like(TSM)\n",
      "for n in range(0, N):\n",
      "    tsm3[n] = A0 / 2\n",
      "    for p in range(1, pmax+1):\n",
      "        tsm3[n] += (A[p-1] * np.cos(twopi * p * n / N) +\n",
      "                    B[p-1] * np.sin(twopi * p * n / N))"
     ],
     "language": "python",
     "metadata": {},
     "outputs": []
    },
    {
     "cell_type": "code",
     "collapsed": false,
     "input": [
      "fig, ax = plt.subplots(figsize=(8, 6))\n",
      "ax.plot(months, tsm1, label='First harmonic')\n",
      "ax.plot(months, tsm2, label='Second harmonic')\n",
      "ax.plot(months, tsm3, label='Third harmonic')\n",
      "ax.set_xlabel(r'Temperatura [$^\\circ$C]')\n",
      "_ = ax.legend(numpoints=1, loc='lower right')"
     ],
     "language": "python",
     "metadata": {},
     "outputs": []
    },
    {
     "cell_type": "code",
     "collapsed": false,
     "input": [
      "ynew = np.zeros_like(TSM)\n",
      "pmax = 12\n",
      "for n in range(0, N):\n",
      "    ynew[n] = A0 / 2\n",
      "    for p in range(1, pmax+1):\n",
      "        ynew[n] += (A[p-1] * np.cos(twopi * p * n / N) +\n",
      "                    B[p-1] * np.sin(twopi * p * n / N))"
     ],
     "language": "python",
     "metadata": {},
     "outputs": []
    },
    {
     "cell_type": "code",
     "collapsed": false,
     "input": [
      "fig, ax = plt.subplots()\n",
      "ax.plot(months, TSM, label='original')\n",
      "ax.plot(months, ynew, label='reconstructed')\n",
      "ax.set_xlabel(r'Temperatura [$^\\circ$C]')\n",
      "_ = ax.legend(numpoints=1)"
     ],
     "language": "python",
     "metadata": {},
     "outputs": []
    },
    {
     "cell_type": "code",
     "collapsed": false,
     "input": [
      "p = np.arange(1, N / 2 + 1)\n",
      "Cp = np.sqrt(A**2 + B**2)\n",
      "fp = np.ones_like(Cp) / p[::-1]\n",
      "\n",
      "fig, ax = plt.subplots()\n",
      "#ax.bar(fp, Cp)\n",
      "ax.plot(fp, Cp, '--k')\n",
      "ax.axis([0.05, 1, 0, 3])\n",
      "ax.set_title('Spectra')\n",
      "ax.set_xlabel('Frequencies [cpm]')\n",
      "_ = ax.set_ylabel('Amplitude')"
     ],
     "language": "python",
     "metadata": {},
     "outputs": []
    },
    {
     "cell_type": "code",
     "collapsed": false,
     "input": [
      "fig, ax = plt.subplots()\n",
      "_ = ax.fill_between(p, Cp, color='0.5')"
     ],
     "language": "python",
     "metadata": {},
     "outputs": []
    }
   ],
   "metadata": {}
  }
 ]
}