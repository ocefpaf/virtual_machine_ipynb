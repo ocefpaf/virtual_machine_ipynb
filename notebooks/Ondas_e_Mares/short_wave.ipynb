{
 "metadata": {
  "name": "",
  "signature": "sha256:d7cbcdfbf56de76da02db779c8caf786a935484a9486a837fd6a95ed77712545"
 },
 "nbformat": 3,
 "nbformat_minor": 0,
 "worksheets": [
  {
   "cells": [
    {
     "cell_type": "markdown",
     "metadata": {},
     "source": [
      "Short-wave dispersion relationship: $\\omega = \\sqrt{gk}$"
     ]
    },
    {
     "cell_type": "code",
     "collapsed": false,
     "input": [
      "import numpy as np\n",
      "\n",
      "L = 15  # Lambda [m]\n",
      "H = 20.  # Water column depth [m].\n",
      "N0 = 0.5  # Wave amplitude [m].\n",
      "K = 2 * np.pi / L  # Wave number [m^{-1}].\n",
      "g = 9.8  # Gravity [m s^{-2}].\n",
      "w = np.sqrt(g * K)  # Short-wave dispersion [rad s^{-1}].\n",
      "T = 2 * np.pi / w  # Period [s].\n",
      "\n",
      "t = np.arange(0, 2 * T, 0.1) # Two waves.\n",
      "x = 0\n",
      "z00, z02, z04, z06, z08, z10 = 0, -2, -4, -6, -8, -10  # Depths to plot."
     ],
     "language": "python",
     "metadata": {},
     "outputs": [],
     "prompt_number": null
    },
    {
     "cell_type": "code",
     "collapsed": false,
     "input": [
      "HoL = H/L\n",
      "if HoL > 1./2:\n",
      "    print(\"H/L = %s. Short-wave! \" % HoL)\n",
      "else:\n",
      "    print(\"H/L = %s. This is not a shortwave :( \" % HoL)"
     ],
     "language": "python",
     "metadata": {},
     "outputs": [],
     "prompt_number": null
    },
    {
     "cell_type": "markdown",
     "metadata": {},
     "source": [
      "The code below solve the following equations:\n",
      "\n",
      "Free surface displacement: $\\eta = N_o\\cos({kx - \\omega t})$\n",
      "\n",
      "x displacement: $\\chi = -\\eta_o\\sin({kx - \\omega t})[\\cosh(kz) + \\sinh(kz)]$\n",
      "\n",
      "z displacement: $\\zeta = \\eta_o\\cos({kx - \\omega t})[\\cosh(kz) + \\sinh(kz)]$"
     ]
    },
    {
     "cell_type": "code",
     "collapsed": false,
     "input": [
      "N = N0 * np.cos((K * x) - (w * t))\n",
      "\n",
      "X00 = N0 * np.sin(K * x - w * t) * (np.cosh(K * z00) + np.sinh(K * z00))\n",
      "X02 = N0 * np.sin(K * x - w * t) * (np.cosh(K * z02) + np.sinh(K * z02))\n",
      "X04 = N0 * np.sin(K * x - w * t) * (np.cosh(K * z04) + np.sinh(K * z04))\n",
      "X06 = N0 * np.sin(K * x - w * t) * (np.cosh(K * z06) + np.sinh(K * z06))\n",
      "X08 = N0 * np.sin(K * x - w * t) * (np.cosh(K * z08) + np.sinh(K * z08))\n",
      "X10 = N0 * np.sin(K * x - w * t) * (np.cosh(K * z10) + np.sinh(K * z10))\n",
      "\n",
      "Z00 = N0 * np.cos(K * x - w * t) * (np.sinh(K * z00) + np.cosh(K * z00))\n",
      "Z02 = N0 * np.cos(K * x - w * t) * (np.sinh(K * z02) + np.cosh(K * z02)) + z02\n",
      "Z04 = N0 * np.cos(K * x - w * t) * (np.sinh(K * z04) + np.cosh(K * z04)) + z04\n",
      "Z06 = N0 * np.cos(K * x - w * t) * (np.sinh(K * z06) + np.cosh(K * z06)) + z06\n",
      "Z08 = N0 * np.cos(K * x - w * t) * (np.sinh(K * z08) + np.cosh(K * z08)) + z08\n",
      "Z10 = N0 * np.cos(K * x - w * t) * (np.sinh(K * z10) + np.cosh(K * z10)) + z10"
     ],
     "language": "python",
     "metadata": {},
     "outputs": [],
     "prompt_number": null
    },
    {
     "cell_type": "code",
     "collapsed": false,
     "input": [
      "import matplotlib.pyplot as plt\n",
      "\n",
      "fig, ax = plt.subplots(figsize=(4, 4))\n",
      "ax.plot(X00, Z00, 'k',\n",
      "        X02, Z02, 'k',\n",
      "        X04, Z04, 'k',\n",
      "        X06, Z06, 'k',\n",
      "        X08, Z08, 'k',\n",
      "        X10, Z10, 'k')\n",
      "ax.set_title(u'Ondas de \u00e1guas profundas (ou ondas curtas)')\n",
      "ax.set_xlabel(u'Dist\u00e2ncia [m]')\n",
      "ax.set_ylabel('Profundidade [m]')\n",
      "x = np.linspace(-X00.max()*10, X00.max()*10, N.size)\n",
      "ax.plot(x, N, 'k:')\n",
      "ax.grid(True)\n",
      "ax.annotate(r'$\\eta$', xy=(x[-4], N[-4]),  xycoords='data',\n",
      "            xytext=(20, 20), textcoords='offset points',\n",
      "            arrowprops=dict(arrowstyle=\"->\", connectionstyle=\"arc3,rad=0.2\"))\n",
      "_ = ax.axis('equal')"
     ],
     "language": "python",
     "metadata": {},
     "outputs": [],
     "prompt_number": null
    }
   ],
   "metadata": {}
  }
 ]
}