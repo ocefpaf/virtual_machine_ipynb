{
 "metadata": {
  "name": "",
  "signature": "sha256:fdf71d86c2dd8584e82ab3ecb11d816f07a4133774e0e121a28b1fb29640c707"
 },
 "nbformat": 3,
 "nbformat_minor": 0,
 "worksheets": [
  {
   "cells": [
    {
     "cell_type": "code",
     "collapsed": false,
     "input": [
      "import numpy as np\n",
      "import matplotlib.pyplot as plt\n",
      "\n",
      "from matplotlib import animation\n",
      "from JSAnimation import IPython_display"
     ],
     "language": "python",
     "metadata": {},
     "outputs": [],
     "prompt_number": null
    },
    {
     "cell_type": "code",
     "collapsed": false,
     "input": [
      "T = 20.\n",
      "w = 2 * np.pi / T\n",
      "ai = 1.\n",
      "ar = 0.5  # Use `1` make it fullt standing.\n",
      "d = 0\n",
      "k = w**2 / 9.81  # Deep water wave."
     ],
     "language": "python",
     "metadata": {},
     "outputs": [],
     "prompt_number": null
    },
    {
     "cell_type": "code",
     "collapsed": false,
     "input": [
      "t = np.arange(0, 100.5, 0.5)\n",
      "\n",
      "def basic_animation(frames=100, interval=30):\n",
      "    fig = plt.figure()\n",
      "    ax = plt.axes(xlim=(0, 1000), ylim=(-2, 2))\n",
      "    \n",
      "    # Animated line.\n",
      "    line, = ax.plot([], [], 'b', lw=2)\n",
      "    text = ax.text(1, 2.05, '')\n",
      "\n",
      "    # Non animated lines.\n",
      "    x = np.arange(0, 1001)\n",
      "    A = (ai**2 + ar**2 + 2*ai * ar * np.cos(2 * k * x + d))**(0.5)\n",
      "    A1 = ai * np.cos(k * x) + ar * np.cos(k * x + d)\n",
      "    A2 = ai * np.sin(k * x) - ar * np.sin(k * x + d)\n",
      "    gamma = np.arctan2(A2, A1)\n",
      "    ax.set_xlabel('Distance [m]')\n",
      "    ax.set_ylabel('Surface Elevation [m]')\n",
      "    ax.set_title('a_i = %s, a_r = %s, T = %s\\nDeep Water Wave' % (ai, ar, T))\n",
      "    ax.plot(x,  A, 'k:')\n",
      "    ax.plot(x, -A, 'k:')\n",
      "    ax.plot(x, [0]*len(x), 'k')\n",
      "    line.set_data([], [])\n",
      "    \n",
      "    def init():\n",
      "        return line, text\n",
      "\n",
      "    def animate(k):\n",
      "        text.set_text('Time [s] = %s' % t[k])\n",
      "        y = A * np.cos(w * t[k] - gamma)\n",
      "        line.set_data(x, y)\n",
      "        return line, text\n",
      "\n",
      "    return animation.FuncAnimation(fig, animate, init_func=init,\n",
      "                                   frames=frames, interval=interval)"
     ],
     "language": "python",
     "metadata": {},
     "outputs": [],
     "prompt_number": null
    },
    {
     "cell_type": "code",
     "collapsed": false,
     "input": [
      "basic_animation(frames=len(t))"
     ],
     "language": "python",
     "metadata": {},
     "outputs": [],
     "prompt_number": null
    }
   ],
   "metadata": {}
  }
 ]
}