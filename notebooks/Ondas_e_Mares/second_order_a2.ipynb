{
 "metadata": {
  "name": ""
 },
 "nbformat": 3,
 "nbformat_minor": 0,
 "worksheets": [
  {
   "cells": [
    {
     "cell_type": "markdown",
     "metadata": {},
     "source": [
      "### Second Order Wave Amplitude"
     ]
    },
    {
     "cell_type": "code",
     "collapsed": false,
     "input": [
      "import numpy as np\n",
      "\n",
      "h = 10  # Water depth.\n",
      "k = 0.0611  # Wave number.\n",
      "a = 1.3  # Lineaer amplitude.\n",
      "\n",
      "# Coefficients.\n",
      "A = k * a**2 / 4\n",
      "B = 2 * (np.sinh(k * h))**2\n",
      "C = np.cosh(k * h * (3 + B)) / np.sinh(k * h)**3\n",
      "\n",
      "a2 = A * C\n",
      "print(\"The second order amplitude is %2.3f m\" % a2)"
     ],
     "language": "python",
     "metadata": {},
     "outputs": [],
     "prompt_number": null
    }
   ],
   "metadata": {}
  }
 ]
}