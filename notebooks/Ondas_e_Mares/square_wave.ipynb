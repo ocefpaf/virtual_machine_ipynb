{
 "metadata": {
  "name": "",
  "signature": "sha256:da39f9fd3023b3d2318b76ac5d6366172e4f991675c2f049ab0fed9562b4988d"
 },
 "nbformat": 3,
 "nbformat_minor": 0,
 "worksheets": [
  {
   "cells": [
    {
     "cell_type": "markdown",
     "metadata": {},
     "source": [
      "http://mathworld.wolfram.com/FourierSeriesSquareWave.html"
     ]
    },
    {
     "cell_type": "code",
     "collapsed": false,
     "input": [
      "import numpy as np\n",
      "import matplotlib.pyplot as plt\n",
      "\n",
      "N = 1000\n",
      "twopi = 2 * np.pi\n",
      "x = np.arange(0, 10, 0.001)\n",
      "wave = np.zeros_like(x)\n",
      "\n",
      "\n",
      "for n in np.arange(1, N, 2):\n",
      "    wave += np.sin(n * twopi * x) / (n * twopi)\n",
      "\n",
      "fig, ax = plt.subplots()\n",
      "_ = ax.plot(x, wave)"
     ],
     "language": "python",
     "metadata": {},
     "outputs": []
    }
   ],
   "metadata": {}
  }
 ]
}