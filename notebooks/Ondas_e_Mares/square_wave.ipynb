{
 "metadata": {
  "name": ""
 },
 "nbformat": 3,
 "nbformat_minor": 0,
 "worksheets": [
  {
   "cells": [
    {
     "cell_type": "markdown",
     "metadata": {},
     "source": [
      "http://mathworld.wolfram.com/FourierSeriesSquareWave.html"
     ]
    },
    {
     "cell_type": "code",
     "collapsed": false,
     "input": [
      "import numpy as np\n",
      "import matplotlib.pyplot as plt\n",
      "\n",
      "N = 1000\n",
      "twopi = 2 * np.pi\n",
      "x = np.arange(0, 10, 0.001)\n",
      "wave = np.zeros_like(x)\n",
      "\n",
      "\n",
      "for n in np.arange(1, N, 2):\n",
      "  wave += np.sin(n * twopi * x) / (n * twopi)\n",
      "\n",
      "fig, ax = plt.subplots()\n",
      "_ = ax.plot(x, wave)"
     ],
     "language": "python",
     "metadata": {},
     "outputs": [],
     "prompt_number": null
    }
   ],
   "metadata": {}
  }
 ]
}