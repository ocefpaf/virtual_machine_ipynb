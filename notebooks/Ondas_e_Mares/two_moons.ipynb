{
 "metadata": {
  "name": ""
 },
 "nbformat": 3,
 "nbformat_minor": 0,
 "worksheets": [
  {
   "cells": [
    {
     "cell_type": "markdown",
     "metadata": {},
     "source": [
      "Provides estimate of spring neap cycle for problem 4 on 2007 final exam for Waves and Tides (MAR 558)."
     ]
    },
    {
     "cell_type": "code",
     "collapsed": false,
     "input": [
      "import numpy as np\n",
      "import matplotlib.pyplot as plt"
     ],
     "language": "python",
     "metadata": {},
     "outputs": [],
     "prompt_number": null
    },
    {
     "cell_type": "code",
     "collapsed": false,
     "input": [
      "Fma = 2.\n",
      "Fmb = 2.\n",
      "Fs = 1.\n",
      "Tb = 28 * 2.\n",
      "dt = 1.  # Degrees.\n",
      "\n",
      "tmb = np.arange(0, 361., 1)\n",
      "tma = tmb * 2.\n",
      "\n",
      "mask = tma > 360.\n",
      "tma[mask] = tma[mask] - 360.\n",
      "\n",
      "ts = 0 * tmb\n",
      "\n",
      "Fmb_x = np.abs(np.cos(tmb * (np.pi / 180)) * Fmb)\n",
      "Fmb_y = np.abs(np.sin(tmb * (np.pi / 180)) * Fmb)\n",
      "\n",
      "Fma_x = np.abs(np.cos(tma * (np.pi / 180)) * Fma)\n",
      "Fma_y = np.abs(np.sin(tma * (np.pi / 180)) * Fma)\n",
      "\n",
      "Fs_x = np.abs(np.cos(ts * (np.pi / 180)) * Fs)\n",
      "Fs_y = np.abs(np.sin(ts * (np.pi / 180)) * Fs)\n",
      "\n",
      "F = np.sqrt((Fmb_x + Fma_x + Fs_x)**2 + (Fmb_y + Fma_y + Fs_y)**2)\n",
      "\n",
      "days = Tb * tmb / 360."
     ],
     "language": "python",
     "metadata": {},
     "outputs": [],
     "prompt_number": null
    },
    {
     "cell_type": "code",
     "collapsed": false,
     "input": [
      "fig, (ax0, ax1) = plt.subplots(ncols=2, figsize=(16, 4), sharey=True)\n",
      "ax0.plot(days, F)\n",
      "ax0.set_ylabel('Relative Strength of Tidal Forcing')\n",
      "ax0.set_xlabel('Days (Assuming faster moon completes one full cycle around earth in 28 days)')\n",
      "ax0.set_xlim(0, Tb)\n",
      "\n",
      "ax1.plot(tmb, F)\n",
      "ax1.set_xlabel('Angular Position (degrees) of slower moon')\n",
      "_ = ax1.set_xlim(0, 360)"
     ],
     "language": "python",
     "metadata": {},
     "outputs": [],
     "prompt_number": null
    },
    {
     "cell_type": "code",
     "collapsed": false,
     "input": [],
     "language": "python",
     "metadata": {},
     "outputs": []
    }
   ],
   "metadata": {}
  }
 ]
}